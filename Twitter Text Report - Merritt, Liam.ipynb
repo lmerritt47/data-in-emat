{
 "cells": [
  {
   "cell_type": "markdown",
   "id": "8fa2ba5c",
   "metadata": {},
   "source": [
    "# Twitter Text Report"
   ]
  },
  {
   "cell_type": "markdown",
   "id": "706fe1ad",
   "metadata": {},
   "source": [
    "## EMAT 22110 - Data in Emerging Media and Technology"
   ]
  },
  {
   "cell_type": "markdown",
   "id": "de5eb041",
   "metadata": {},
   "source": [
    "## Author: Liam Merritt"
   ]
  },
  {
   "cell_type": "markdown",
   "id": "e69311bb",
   "metadata": {},
   "source": [
    "## Created: 10/19/2021"
   ]
  },
  {
   "cell_type": "markdown",
   "id": "d74d352f",
   "metadata": {},
   "source": [
    "### Starting the Process"
   ]
  },
  {
   "cell_type": "code",
   "execution_count": 134,
   "id": "1e2f5b39",
   "metadata": {},
   "outputs": [],
   "source": [
    "import pandas as pd\n",
    "import json\n",
    "import requests\n",
    "import urllib"
   ]
  },
  {
   "cell_type": "code",
   "execution_count": 135,
   "id": "098d7df8",
   "metadata": {},
   "outputs": [
    {
     "name": "stdout",
     "output_type": "stream",
     "text": [
      "'likes' Report - Liam Merritt.ipynb\r\n",
      "BLS Data Call.ipynb\r\n",
      "Data in EMAT 9-21-21 Notes.ipynb\r\n",
      "HipHopAPP_keys.txt\r\n",
      "Notes 10-19-21 - Data Scraping.ipynb\r\n",
      "Notes 9-23-2021 & 9-28-2021 & 9-30-2021 - Data In Emat.ipynb\r\n",
      "Notes 9-30-2021 Data In EMAT.ipynb\r\n",
      "Pandas Notes 9-14-21.ipynb\r\n",
      "SQL Notes - 10-7-21.ipynb\r\n",
      "Twitter API Notes.ipynb\r\n",
      "Twitter Text Report - Liam Merritt.ipynb\r\n",
      "Twitter_API_key.txt\r\n",
      "bls_data.csv\r\n",
      "chinook.db\r\n",
      "chinook.zip\r\n"
     ]
    }
   ],
   "source": [
    "ls"
   ]
  },
  {
   "cell_type": "markdown",
   "id": "269a9d2a",
   "metadata": {},
   "source": [
    "## Getting the Bearer Token\n",
    "#### This token is used to access the data on Twitter through my developer account. My use case was to find out the answer to this question. Have frontline workers kept a positive or negative attitude towards working on the frontlines of Covid-19? I will make an attempt to ascertain data that may answer this question by looking at the 300 most recent tweets using the hashtags #frontlineworker, #healthcareworker, and #frontline."
   ]
  },
  {
   "cell_type": "code",
   "execution_count": 136,
   "id": "773eab75",
   "metadata": {},
   "outputs": [],
   "source": [
    "bearer_token = pd.read_csv('Twitter_API_key.txt', header = 0)"
   ]
  },
  {
   "cell_type": "code",
   "execution_count": 137,
   "id": "8013e7ed",
   "metadata": {},
   "outputs": [
    {
     "data": {
      "text/plain": [
       "'AAAAAAAAAAAAAAAAAAAAAOPnNAEAAAAAt6aQBakY445RAyxlUlfmlbKnPuk%3DUHfbKvswaGkQZHojBrhoC5kGybPldtMebzKwMAvHBODwEU3gOK'"
      ]
     },
     "execution_count": 137,
     "metadata": {},
     "output_type": "execute_result"
    }
   ],
   "source": [
    "### Code of Bearer Token for Twitter API\n",
    "bearer_token['Bearer Token'].iloc[0]"
   ]
  },
  {
   "cell_type": "markdown",
   "id": "d29821af",
   "metadata": {},
   "source": [
    "## Header\n",
    "#### This is passed to the request by creating an Authorization for the server to read to validate my bearer token in order for me to get the data that I am requesting about frontline workers in healthcare during the pandemic."
   ]
  },
  {
   "cell_type": "code",
   "execution_count": 138,
   "id": "bed4705a",
   "metadata": {},
   "outputs": [],
   "source": [
    "header = {'Authorization' : 'Bearer {}'.format(bearer_token['Bearer Token'].iloc[0])}"
   ]
  },
  {
   "cell_type": "markdown",
   "id": "572015e4",
   "metadata": {},
   "source": [
    "## Query\n",
    "#### The query is the search term(s) that I'm looking for in order to answer the question of whether frontline Covid-19 workers have kept a positive attitude in their work during the pandemic."
   ]
  },
  {
   "cell_type": "code",
   "execution_count": 139,
   "id": "8c738e31",
   "metadata": {},
   "outputs": [],
   "source": [
    "query = urllib.parse.quote('(#frontlineworker OR #healthcareworker OR #frontline) lang:en') \n",
    "### This search queries the most recent tweets using \n",
    "### the hashtag frontlineworker and healthcare in the language of English."
   ]
  },
  {
   "cell_type": "code",
   "execution_count": 140,
   "id": "3cfd1086",
   "metadata": {},
   "outputs": [
    {
     "data": {
      "text/plain": [
       "'%28%23frontlineworker%20OR%20%23healthcareworker%20OR%20%23frontline%29%20lang%3Aen'"
      ]
     },
     "execution_count": 140,
     "metadata": {},
     "output_type": "execute_result"
    }
   ],
   "source": [
    "query  ### This is the query that is passed to the Twitter server to bring back the data I've requested."
   ]
  },
  {
   "cell_type": "markdown",
   "id": "947fe178",
   "metadata": {},
   "source": [
    "## Tweet Fields\n",
    "#### The tweet fields are the categories that I want to show of the tweets that I'll be pulling from the Twitter server. These tweet fields will bring back the Tweet ID, author name, author handle, Tweet text, engagements, creation time, and the reply settings. The tweet fields I'll be using are: 'public_metrics,created_at,author_id,lang,reply_settings'."
   ]
  },
  {
   "cell_type": "code",
   "execution_count": 141,
   "id": "bf30bd80",
   "metadata": {},
   "outputs": [],
   "source": [
    "tweet_fields = 'public_metrics,created_at,author_id,lang,reply_settings'"
   ]
  },
  {
   "cell_type": "markdown",
   "id": "1b4f6bb2",
   "metadata": {},
   "source": [
    "## Expansions\n",
    "#### The author_id tweet field requires an expansion in order to access the array of data that sits within this field."
   ]
  },
  {
   "cell_type": "code",
   "execution_count": 142,
   "id": "049791e2",
   "metadata": {},
   "outputs": [],
   "source": [
    "expansions = 'author_id'"
   ]
  },
  {
   "cell_type": "markdown",
   "id": "e7981bfe",
   "metadata": {},
   "source": [
    "## Urls\n",
    "#### This tab specifies the urls that will be needed to call to the server for the correct information about #frontline, #frontlineworker, and #healthcareworker hashtags."
   ]
  },
  {
   "cell_type": "markdown",
   "id": "bfe4e7f3",
   "metadata": {},
   "source": [
    "### The first necessary url is the endpoint that every GET recent tweets request needs to access the server."
   ]
  },
  {
   "cell_type": "code",
   "execution_count": 143,
   "id": "0c076da5",
   "metadata": {},
   "outputs": [],
   "source": [
    "endpoint_url = 'https://api.twitter.com/2/tweets/search/recent'"
   ]
  },
  {
   "cell_type": "markdown",
   "id": "0cbbb814",
   "metadata": {},
   "source": [
    "### The next url necessary is the url for the tweet fields along with the expansion for the author_id information."
   ]
  },
  {
   "cell_type": "code",
   "execution_count": 144,
   "id": "abc85e99",
   "metadata": {},
   "outputs": [],
   "source": [
    "expansion_url = '?query={}&max_results=100&tweet.fields={}&expansions={}&user.fields={}'.format(query, tweet_fields, expansions, 'username')"
   ]
  },
  {
   "cell_type": "markdown",
   "id": "75b2c822",
   "metadata": {},
   "source": [
    "### The final url is the combination of both urls that will be the url that the server needs to bring back the information that I want about the tweets related to frontline workers in healthcare."
   ]
  },
  {
   "cell_type": "code",
   "execution_count": 145,
   "id": "ab392462",
   "metadata": {},
   "outputs": [
    {
     "data": {
      "text/plain": [
       "'https://api.twitter.com/2/tweets/search/recent?query=%28%23frontlineworker%20OR%20%23healthcareworker%20OR%20%23frontline%29%20lang%3Aen&max_results=100&tweet.fields=public_metrics,created_at,author_id,lang,reply_settings&expansions=author_id&user.fields=username'"
      ]
     },
     "execution_count": 145,
     "metadata": {},
     "output_type": "execute_result"
    }
   ],
   "source": [
    "final_url = endpoint_url + expansion_url\n",
    "final_url"
   ]
  },
  {
   "cell_type": "markdown",
   "id": "4211e98a",
   "metadata": {},
   "source": [
    "## Requesting the Server\n",
    "#### Now that I have the header and the query, expansions, and tweet fields have allowed me to create a URL, I can request the information I want from the server for #healthcareworker and #frontlineworker hashtags in the English language."
   ]
  },
  {
   "cell_type": "code",
   "execution_count": 146,
   "id": "19c5c27b",
   "metadata": {},
   "outputs": [],
   "source": [
    "data_response_1 = requests.request(\"GET\", url = final_url, headers = header)"
   ]
  },
  {
   "cell_type": "markdown",
   "id": "cf556b69",
   "metadata": {},
   "source": [
    "#### This creates the raw text for the server request and the response that I'm receiving back\n",
    "I'm not going to run this because it will clog up nbviewer just adding it to show the steps necessary."
   ]
  },
  {
   "cell_type": "code",
   "execution_count": null,
   "id": "64400cd0",
   "metadata": {
    "scrolled": true
   },
   "outputs": [],
   "source": [
    "data_response_1.text"
   ]
  },
  {
   "cell_type": "markdown",
   "id": "067f62e9",
   "metadata": {},
   "source": [
    "#### This next variable is storing the raw text that I received in a json dictionary that is more clearly read into a pandas DataFrame.\n",
    "For similar reasons as above I won't show the json dictionary because it will be lengthy and clog up the page for nbviewer optimization."
   ]
  },
  {
   "cell_type": "code",
   "execution_count": 148,
   "id": "41fe65c1",
   "metadata": {},
   "outputs": [],
   "source": [
    "data_response_1_dict = json.loads(data_response_1.text)"
   ]
  },
  {
   "cell_type": "markdown",
   "id": "1019892e",
   "metadata": {},
   "source": [
    "## Getting the First Dataframe\n",
    "#### Finally, I'm at the step where I can load the raw json data into a pandas DataFrame that will show the tweet fields in a more succinct and optimized way.\n",
    "#### First I will need the keys of the json dictionary 'data_response_1_dict'"
   ]
  },
  {
   "cell_type": "code",
   "execution_count": 149,
   "id": "8b44a8f6",
   "metadata": {},
   "outputs": [
    {
     "data": {
      "text/plain": [
       "dict_keys(['data', 'includes', 'meta'])"
      ]
     },
     "execution_count": 149,
     "metadata": {},
     "output_type": "execute_result"
    }
   ],
   "source": [
    "data_response_1_dict.keys()"
   ]
  },
  {
   "cell_type": "markdown",
   "id": "6e00cc4f",
   "metadata": {},
   "source": [
    "#### Next, I'll use the data key to create my first DataFrame for the healthcare and frontline worker related tweets."
   ]
  },
  {
   "cell_type": "code",
   "execution_count": 150,
   "id": "e4e8f382",
   "metadata": {},
   "outputs": [
    {
     "data": {
      "text/html": [
       "<div>\n",
       "<style scoped>\n",
       "    .dataframe tbody tr th:only-of-type {\n",
       "        vertical-align: middle;\n",
       "    }\n",
       "\n",
       "    .dataframe tbody tr th {\n",
       "        vertical-align: top;\n",
       "    }\n",
       "\n",
       "    .dataframe thead th {\n",
       "        text-align: right;\n",
       "    }\n",
       "</style>\n",
       "<table border=\"1\" class=\"dataframe\">\n",
       "  <thead>\n",
       "    <tr style=\"text-align: right;\">\n",
       "      <th></th>\n",
       "      <th>reply_settings</th>\n",
       "      <th>author_id</th>\n",
       "      <th>id</th>\n",
       "      <th>created_at</th>\n",
       "      <th>public_metrics</th>\n",
       "      <th>lang</th>\n",
       "      <th>text</th>\n",
       "    </tr>\n",
       "  </thead>\n",
       "  <tbody>\n",
       "    <tr>\n",
       "      <th>0</th>\n",
       "      <td>everyone</td>\n",
       "      <td>1325833659694407685</td>\n",
       "      <td>1450633234476326912</td>\n",
       "      <td>2021-10-20T01:21:29.000Z</td>\n",
       "      <td>{'retweet_count': 0, 'reply_count': 0, 'like_c...</td>\n",
       "      <td>en</td>\n",
       "      <td>#Mandates #BREAKING #news #Frontline workers n...</td>\n",
       "    </tr>\n",
       "    <tr>\n",
       "      <th>1</th>\n",
       "      <td>everyone</td>\n",
       "      <td>1325833659694407685</td>\n",
       "      <td>1450632511365734401</td>\n",
       "      <td>2021-10-20T01:18:36.000Z</td>\n",
       "      <td>{'retweet_count': 0, 'reply_count': 0, 'like_c...</td>\n",
       "      <td>en</td>\n",
       "      <td>#Mandates #BREAKING #news #Frontline workers n...</td>\n",
       "    </tr>\n",
       "    <tr>\n",
       "      <th>2</th>\n",
       "      <td>everyone</td>\n",
       "      <td>18393144</td>\n",
       "      <td>1450629923022987264</td>\n",
       "      <td>2021-10-20T01:08:19.000Z</td>\n",
       "      <td>{'retweet_count': 1, 'reply_count': 0, 'like_c...</td>\n",
       "      <td>en</td>\n",
       "      <td>RT @FSantuccisays: #Mandates #BREAKING #news #...</td>\n",
       "    </tr>\n",
       "    <tr>\n",
       "      <th>3</th>\n",
       "      <td>everyone</td>\n",
       "      <td>4596301403</td>\n",
       "      <td>1450628663783956483</td>\n",
       "      <td>2021-10-20T01:03:19.000Z</td>\n",
       "      <td>{'retweet_count': 3, 'reply_count': 0, 'like_c...</td>\n",
       "      <td>en</td>\n",
       "      <td>RT @reliefweb: .@MSF's report, “Adding salt to...</td>\n",
       "    </tr>\n",
       "    <tr>\n",
       "      <th>4</th>\n",
       "      <td>everyone</td>\n",
       "      <td>34911505</td>\n",
       "      <td>1450625935062020097</td>\n",
       "      <td>2021-10-20T00:52:28.000Z</td>\n",
       "      <td>{'retweet_count': 3, 'reply_count': 0, 'like_c...</td>\n",
       "      <td>en</td>\n",
       "      <td>RT @reliefweb: .@MSF's report, “Adding salt to...</td>\n",
       "    </tr>\n",
       "  </tbody>\n",
       "</table>\n",
       "</div>"
      ],
      "text/plain": [
       "  reply_settings            author_id                   id  \\\n",
       "0       everyone  1325833659694407685  1450633234476326912   \n",
       "1       everyone  1325833659694407685  1450632511365734401   \n",
       "2       everyone             18393144  1450629923022987264   \n",
       "3       everyone           4596301403  1450628663783956483   \n",
       "4       everyone             34911505  1450625935062020097   \n",
       "\n",
       "                 created_at  \\\n",
       "0  2021-10-20T01:21:29.000Z   \n",
       "1  2021-10-20T01:18:36.000Z   \n",
       "2  2021-10-20T01:08:19.000Z   \n",
       "3  2021-10-20T01:03:19.000Z   \n",
       "4  2021-10-20T00:52:28.000Z   \n",
       "\n",
       "                                      public_metrics lang  \\\n",
       "0  {'retweet_count': 0, 'reply_count': 0, 'like_c...   en   \n",
       "1  {'retweet_count': 0, 'reply_count': 0, 'like_c...   en   \n",
       "2  {'retweet_count': 1, 'reply_count': 0, 'like_c...   en   \n",
       "3  {'retweet_count': 3, 'reply_count': 0, 'like_c...   en   \n",
       "4  {'retweet_count': 3, 'reply_count': 0, 'like_c...   en   \n",
       "\n",
       "                                                text  \n",
       "0  #Mandates #BREAKING #news #Frontline workers n...  \n",
       "1  #Mandates #BREAKING #news #Frontline workers n...  \n",
       "2  RT @FSantuccisays: #Mandates #BREAKING #news #...  \n",
       "3  RT @reliefweb: .@MSF's report, “Adding salt to...  \n",
       "4  RT @reliefweb: .@MSF's report, “Adding salt to...  "
      ]
     },
     "execution_count": 150,
     "metadata": {},
     "output_type": "execute_result"
    }
   ],
   "source": [
    "health_tweets_df = pd.DataFrame(data_response_1_dict['data'])\n",
    "### I won't show the DataFrame until I get to the end of the code so that I only have to show the 300 tweets at once\n",
    "### instead of showing 100 each time and then 300 total as it will save space on nbviewer. I'll show the head of the\n",
    "### DataFrame just to be sure that I'm on the right track.\n",
    "health_tweets_df.head()"
   ]
  },
  {
   "cell_type": "markdown",
   "id": "0700b51c",
   "metadata": {},
   "source": [
    "#### I want to show the username and Twitter handle of each tweet so I'll need to utilize a new variable called 'user_info' to add these columns to my DataFrame.\n",
    "#### My first step is to use the key 'includes' and then I'll take two of the columns from the new DataFrame I'll create and add them to my current DataFrame."
   ]
  },
  {
   "cell_type": "code",
   "execution_count": null,
   "id": "ae9df227",
   "metadata": {},
   "outputs": [],
   "source": [
    "data_response_1_dict['includes']\n",
    "### Again I won't run this cell just for nbviewer optimization to not clog up the page."
   ]
  },
  {
   "cell_type": "markdown",
   "id": "c543a1ab",
   "metadata": {},
   "source": [
    "#### I'll add the two DataFrames together and show the head of the DataFrame just to be sure that I'm doing the correct process."
   ]
  },
  {
   "cell_type": "code",
   "execution_count": 152,
   "id": "093d20e9",
   "metadata": {},
   "outputs": [
    {
     "data": {
      "text/html": [
       "<div>\n",
       "<style scoped>\n",
       "    .dataframe tbody tr th:only-of-type {\n",
       "        vertical-align: middle;\n",
       "    }\n",
       "\n",
       "    .dataframe tbody tr th {\n",
       "        vertical-align: top;\n",
       "    }\n",
       "\n",
       "    .dataframe thead th {\n",
       "        text-align: right;\n",
       "    }\n",
       "</style>\n",
       "<table border=\"1\" class=\"dataframe\">\n",
       "  <thead>\n",
       "    <tr style=\"text-align: right;\">\n",
       "      <th></th>\n",
       "      <th>id</th>\n",
       "      <th>name</th>\n",
       "      <th>username</th>\n",
       "    </tr>\n",
       "  </thead>\n",
       "  <tbody>\n",
       "    <tr>\n",
       "      <th>0</th>\n",
       "      <td>1325833659694407685</td>\n",
       "      <td>familiadeSantuccisays</td>\n",
       "      <td>FSantuccisays</td>\n",
       "    </tr>\n",
       "    <tr>\n",
       "      <th>1</th>\n",
       "      <td>18393144</td>\n",
       "      <td>TxTiny</td>\n",
       "      <td>TxTiny</td>\n",
       "    </tr>\n",
       "    <tr>\n",
       "      <th>2</th>\n",
       "      <td>4596301403</td>\n",
       "      <td>Mariana T.</td>\n",
       "      <td>marianatrobosky</td>\n",
       "    </tr>\n",
       "    <tr>\n",
       "      <th>3</th>\n",
       "      <td>34911505</td>\n",
       "      <td>PCDN</td>\n",
       "      <td>pcdnetwork</td>\n",
       "    </tr>\n",
       "    <tr>\n",
       "      <th>4</th>\n",
       "      <td>81147404</td>\n",
       "      <td>LillyGrillzit</td>\n",
       "      <td>LillyGrillzit</td>\n",
       "    </tr>\n",
       "  </tbody>\n",
       "</table>\n",
       "</div>"
      ],
      "text/plain": [
       "                    id                   name         username\n",
       "0  1325833659694407685  familiadeSantuccisays    FSantuccisays\n",
       "1             18393144                 TxTiny           TxTiny\n",
       "2           4596301403             Mariana T.  marianatrobosky\n",
       "3             34911505                   PCDN       pcdnetwork\n",
       "4             81147404          LillyGrillzit    LillyGrillzit"
      ]
     },
     "execution_count": 152,
     "metadata": {},
     "output_type": "execute_result"
    }
   ],
   "source": [
    "user_info = pd.DataFrame(data_response_1_dict['includes']['users'])\n",
    "user_info.head()"
   ]
  },
  {
   "cell_type": "markdown",
   "id": "38d9470b",
   "metadata": {},
   "source": [
    "#### Here's the name and username added to the original DataFrame."
   ]
  },
  {
   "cell_type": "code",
   "execution_count": 153,
   "id": "df27346c",
   "metadata": {},
   "outputs": [
    {
     "data": {
      "text/html": [
       "<div>\n",
       "<style scoped>\n",
       "    .dataframe tbody tr th:only-of-type {\n",
       "        vertical-align: middle;\n",
       "    }\n",
       "\n",
       "    .dataframe tbody tr th {\n",
       "        vertical-align: top;\n",
       "    }\n",
       "\n",
       "    .dataframe thead th {\n",
       "        text-align: right;\n",
       "    }\n",
       "</style>\n",
       "<table border=\"1\" class=\"dataframe\">\n",
       "  <thead>\n",
       "    <tr style=\"text-align: right;\">\n",
       "      <th></th>\n",
       "      <th>reply_settings</th>\n",
       "      <th>author_id</th>\n",
       "      <th>id</th>\n",
       "      <th>created_at</th>\n",
       "      <th>public_metrics</th>\n",
       "      <th>lang</th>\n",
       "      <th>text</th>\n",
       "      <th>name</th>\n",
       "      <th>username</th>\n",
       "    </tr>\n",
       "  </thead>\n",
       "  <tbody>\n",
       "    <tr>\n",
       "      <th>0</th>\n",
       "      <td>everyone</td>\n",
       "      <td>1325833659694407685</td>\n",
       "      <td>1450633234476326912</td>\n",
       "      <td>2021-10-20T01:21:29.000Z</td>\n",
       "      <td>{'retweet_count': 0, 'reply_count': 0, 'like_c...</td>\n",
       "      <td>en</td>\n",
       "      <td>#Mandates #BREAKING #news #Frontline workers n...</td>\n",
       "      <td>familiadeSantuccisays</td>\n",
       "      <td>FSantuccisays</td>\n",
       "    </tr>\n",
       "    <tr>\n",
       "      <th>1</th>\n",
       "      <td>everyone</td>\n",
       "      <td>1325833659694407685</td>\n",
       "      <td>1450632511365734401</td>\n",
       "      <td>2021-10-20T01:18:36.000Z</td>\n",
       "      <td>{'retweet_count': 0, 'reply_count': 0, 'like_c...</td>\n",
       "      <td>en</td>\n",
       "      <td>#Mandates #BREAKING #news #Frontline workers n...</td>\n",
       "      <td>TxTiny</td>\n",
       "      <td>TxTiny</td>\n",
       "    </tr>\n",
       "    <tr>\n",
       "      <th>2</th>\n",
       "      <td>everyone</td>\n",
       "      <td>18393144</td>\n",
       "      <td>1450629923022987264</td>\n",
       "      <td>2021-10-20T01:08:19.000Z</td>\n",
       "      <td>{'retweet_count': 1, 'reply_count': 0, 'like_c...</td>\n",
       "      <td>en</td>\n",
       "      <td>RT @FSantuccisays: #Mandates #BREAKING #news #...</td>\n",
       "      <td>Mariana T.</td>\n",
       "      <td>marianatrobosky</td>\n",
       "    </tr>\n",
       "    <tr>\n",
       "      <th>3</th>\n",
       "      <td>everyone</td>\n",
       "      <td>4596301403</td>\n",
       "      <td>1450628663783956483</td>\n",
       "      <td>2021-10-20T01:03:19.000Z</td>\n",
       "      <td>{'retweet_count': 3, 'reply_count': 0, 'like_c...</td>\n",
       "      <td>en</td>\n",
       "      <td>RT @reliefweb: .@MSF's report, “Adding salt to...</td>\n",
       "      <td>PCDN</td>\n",
       "      <td>pcdnetwork</td>\n",
       "    </tr>\n",
       "    <tr>\n",
       "      <th>4</th>\n",
       "      <td>everyone</td>\n",
       "      <td>34911505</td>\n",
       "      <td>1450625935062020097</td>\n",
       "      <td>2021-10-20T00:52:28.000Z</td>\n",
       "      <td>{'retweet_count': 3, 'reply_count': 0, 'like_c...</td>\n",
       "      <td>en</td>\n",
       "      <td>RT @reliefweb: .@MSF's report, “Adding salt to...</td>\n",
       "      <td>LillyGrillzit</td>\n",
       "      <td>LillyGrillzit</td>\n",
       "    </tr>\n",
       "  </tbody>\n",
       "</table>\n",
       "</div>"
      ],
      "text/plain": [
       "  reply_settings            author_id                   id  \\\n",
       "0       everyone  1325833659694407685  1450633234476326912   \n",
       "1       everyone  1325833659694407685  1450632511365734401   \n",
       "2       everyone             18393144  1450629923022987264   \n",
       "3       everyone           4596301403  1450628663783956483   \n",
       "4       everyone             34911505  1450625935062020097   \n",
       "\n",
       "                 created_at  \\\n",
       "0  2021-10-20T01:21:29.000Z   \n",
       "1  2021-10-20T01:18:36.000Z   \n",
       "2  2021-10-20T01:08:19.000Z   \n",
       "3  2021-10-20T01:03:19.000Z   \n",
       "4  2021-10-20T00:52:28.000Z   \n",
       "\n",
       "                                      public_metrics lang  \\\n",
       "0  {'retweet_count': 0, 'reply_count': 0, 'like_c...   en   \n",
       "1  {'retweet_count': 0, 'reply_count': 0, 'like_c...   en   \n",
       "2  {'retweet_count': 1, 'reply_count': 0, 'like_c...   en   \n",
       "3  {'retweet_count': 3, 'reply_count': 0, 'like_c...   en   \n",
       "4  {'retweet_count': 3, 'reply_count': 0, 'like_c...   en   \n",
       "\n",
       "                                                text                   name  \\\n",
       "0  #Mandates #BREAKING #news #Frontline workers n...  familiadeSantuccisays   \n",
       "1  #Mandates #BREAKING #news #Frontline workers n...                 TxTiny   \n",
       "2  RT @FSantuccisays: #Mandates #BREAKING #news #...             Mariana T.   \n",
       "3  RT @reliefweb: .@MSF's report, “Adding salt to...                   PCDN   \n",
       "4  RT @reliefweb: .@MSF's report, “Adding salt to...          LillyGrillzit   \n",
       "\n",
       "          username  \n",
       "0    FSantuccisays  \n",
       "1           TxTiny  \n",
       "2  marianatrobosky  \n",
       "3       pcdnetwork  \n",
       "4    LillyGrillzit  "
      ]
     },
     "execution_count": 153,
     "metadata": {},
     "output_type": "execute_result"
    }
   ],
   "source": [
    "health_tweets_df['name'] = user_info['name']\n",
    "health_tweets_df['username'] = user_info['username']\n",
    "health_tweets_df.head()\n",
    "### I'm using the head() method once again just to show that I'm doing the process correctly."
   ]
  },
  {
   "cell_type": "markdown",
   "id": "4725de79",
   "metadata": {},
   "source": [
    "## Using the Next Token to get the next 100 tweets.\n",
    "#### This next step utilizes the 'meta' key to give me the next token for my next url in order to streamline the process of receiving the next 100 tweets that I want to add to my request."
   ]
  },
  {
   "cell_type": "code",
   "execution_count": 154,
   "id": "ebcac787",
   "metadata": {},
   "outputs": [
    {
     "data": {
      "text/plain": [
       "{'newest_id': '1450633234476326912',\n",
       " 'oldest_id': '1450072565976743938',\n",
       " 'result_count': 100,\n",
       " 'next_token': 'b26v89c19zqg8o3fpdv5s9yg8bvrbqfqtko0hnvamd1tp'}"
      ]
     },
     "execution_count": 154,
     "metadata": {},
     "output_type": "execute_result"
    }
   ],
   "source": [
    "data_response_1_dict['meta']"
   ]
  },
  {
   "cell_type": "markdown",
   "id": "2a21fbf2",
   "metadata": {},
   "source": [
    "#### Now I can use the next_token to create my second url for the next set of 100 tweets to get me to 200 total tweets."
   ]
  },
  {
   "cell_type": "code",
   "execution_count": 155,
   "id": "40736c82",
   "metadata": {},
   "outputs": [
    {
     "data": {
      "text/plain": [
       "'https://api.twitter.com/2/tweets/search/recent?query=%28%23frontlineworker%20OR%20%23healthcareworker%20OR%20%23frontline%29%20lang%3Aen&max_results=100&tweet.fields=public_metrics,created_at,author_id,lang,reply_settings&expansions=author_id&user.fields=username&next_token=b26v89c19zqg8o3fpdv5s9yg8bvrbqfqtko0hnvamd1tp'"
      ]
     },
     "execution_count": 155,
     "metadata": {},
     "output_type": "execute_result"
    }
   ],
   "source": [
    "second_final_url = final_url + '&next_token={}'.format(data_response_1_dict['meta']['next_token'])\n",
    "second_final_url"
   ]
  },
  {
   "cell_type": "markdown",
   "id": "eb7d1a33",
   "metadata": {},
   "source": [
    "#### Now I have my second url I can make the request to the server for my next set of 100 tweets."
   ]
  },
  {
   "cell_type": "code",
   "execution_count": 156,
   "id": "b7a7bf4f",
   "metadata": {},
   "outputs": [],
   "source": [
    "data_response_2 = requests.request(\"GET\", url = second_final_url, headers = header)"
   ]
  },
  {
   "cell_type": "markdown",
   "id": "808e4599",
   "metadata": {},
   "source": [
    "#### Now I'll repeat the process from above to get the text of data_response_2 turned into a dictionary and then a DataFrame. I'll get the name and username from the 'includes' key in the same way and add those to my second DataFrame before I append it to the first DataFrame."
   ]
  },
  {
   "cell_type": "code",
   "execution_count": 157,
   "id": "e775c26a",
   "metadata": {},
   "outputs": [],
   "source": [
    "data_response_2_dict = json.loads(data_response_2.text)"
   ]
  },
  {
   "cell_type": "code",
   "execution_count": 158,
   "id": "bcda6163",
   "metadata": {},
   "outputs": [
    {
     "data": {
      "text/html": [
       "<div>\n",
       "<style scoped>\n",
       "    .dataframe tbody tr th:only-of-type {\n",
       "        vertical-align: middle;\n",
       "    }\n",
       "\n",
       "    .dataframe tbody tr th {\n",
       "        vertical-align: top;\n",
       "    }\n",
       "\n",
       "    .dataframe thead th {\n",
       "        text-align: right;\n",
       "    }\n",
       "</style>\n",
       "<table border=\"1\" class=\"dataframe\">\n",
       "  <thead>\n",
       "    <tr style=\"text-align: right;\">\n",
       "      <th></th>\n",
       "      <th>created_at</th>\n",
       "      <th>id</th>\n",
       "      <th>reply_settings</th>\n",
       "      <th>public_metrics</th>\n",
       "      <th>text</th>\n",
       "      <th>author_id</th>\n",
       "      <th>lang</th>\n",
       "    </tr>\n",
       "  </thead>\n",
       "  <tbody>\n",
       "    <tr>\n",
       "      <th>0</th>\n",
       "      <td>2021-10-18T12:00:25.000Z</td>\n",
       "      <td>1450069252862615552</td>\n",
       "      <td>everyone</td>\n",
       "      <td>{'retweet_count': 0, 'reply_count': 0, 'like_c...</td>\n",
       "      <td>Thanks to Daniel Whelan Tiling &amp;amp; Bathrooms...</td>\n",
       "      <td>1331543838410870784</td>\n",
       "      <td>en</td>\n",
       "    </tr>\n",
       "    <tr>\n",
       "      <th>1</th>\n",
       "      <td>2021-10-18T11:58:38.000Z</td>\n",
       "      <td>1450068805896527875</td>\n",
       "      <td>everyone</td>\n",
       "      <td>{'retweet_count': 4, 'reply_count': 0, 'like_c...</td>\n",
       "      <td>RT @StutterLoudly: Wore my @thisisourshotca sh...</td>\n",
       "      <td>267943190</td>\n",
       "      <td>en</td>\n",
       "    </tr>\n",
       "    <tr>\n",
       "      <th>2</th>\n",
       "      <td>2021-10-18T11:42:55.000Z</td>\n",
       "      <td>1450064850277830657</td>\n",
       "      <td>everyone</td>\n",
       "      <td>{'retweet_count': 4, 'reply_count': 0, 'like_c...</td>\n",
       "      <td>RT @JackieHoare3: Sleep problems are common po...</td>\n",
       "      <td>560185948</td>\n",
       "      <td>en</td>\n",
       "    </tr>\n",
       "    <tr>\n",
       "      <th>3</th>\n",
       "      <td>2021-10-18T11:24:43.000Z</td>\n",
       "      <td>1450060267765866501</td>\n",
       "      <td>everyone</td>\n",
       "      <td>{'retweet_count': 0, 'reply_count': 0, 'like_c...</td>\n",
       "      <td>I was Treated Successfully for COVID-19 by the...</td>\n",
       "      <td>2361438294</td>\n",
       "      <td>en</td>\n",
       "    </tr>\n",
       "    <tr>\n",
       "      <th>4</th>\n",
       "      <td>2021-10-18T11:14:39.000Z</td>\n",
       "      <td>1450057736285261825</td>\n",
       "      <td>everyone</td>\n",
       "      <td>{'retweet_count': 4, 'reply_count': 0, 'like_c...</td>\n",
       "      <td>RT @StutterLoudly: Wore my @thisisourshotca sh...</td>\n",
       "      <td>1381363018060161034</td>\n",
       "      <td>en</td>\n",
       "    </tr>\n",
       "  </tbody>\n",
       "</table>\n",
       "</div>"
      ],
      "text/plain": [
       "                 created_at                   id reply_settings  \\\n",
       "0  2021-10-18T12:00:25.000Z  1450069252862615552       everyone   \n",
       "1  2021-10-18T11:58:38.000Z  1450068805896527875       everyone   \n",
       "2  2021-10-18T11:42:55.000Z  1450064850277830657       everyone   \n",
       "3  2021-10-18T11:24:43.000Z  1450060267765866501       everyone   \n",
       "4  2021-10-18T11:14:39.000Z  1450057736285261825       everyone   \n",
       "\n",
       "                                      public_metrics  \\\n",
       "0  {'retweet_count': 0, 'reply_count': 0, 'like_c...   \n",
       "1  {'retweet_count': 4, 'reply_count': 0, 'like_c...   \n",
       "2  {'retweet_count': 4, 'reply_count': 0, 'like_c...   \n",
       "3  {'retweet_count': 0, 'reply_count': 0, 'like_c...   \n",
       "4  {'retweet_count': 4, 'reply_count': 0, 'like_c...   \n",
       "\n",
       "                                                text            author_id lang  \n",
       "0  Thanks to Daniel Whelan Tiling &amp; Bathrooms...  1331543838410870784   en  \n",
       "1  RT @StutterLoudly: Wore my @thisisourshotca sh...            267943190   en  \n",
       "2  RT @JackieHoare3: Sleep problems are common po...            560185948   en  \n",
       "3  I was Treated Successfully for COVID-19 by the...           2361438294   en  \n",
       "4  RT @StutterLoudly: Wore my @thisisourshotca sh...  1381363018060161034   en  "
      ]
     },
     "execution_count": 158,
     "metadata": {},
     "output_type": "execute_result"
    }
   ],
   "source": [
    "health_tweets_df_2 = pd.DataFrame(data_response_2_dict['data'])\n",
    "health_tweets_df_2.head()\n",
    "### Show the head to make sure I'm on the right track"
   ]
  },
  {
   "cell_type": "code",
   "execution_count": 159,
   "id": "3d9b1748",
   "metadata": {},
   "outputs": [
    {
     "data": {
      "text/html": [
       "<div>\n",
       "<style scoped>\n",
       "    .dataframe tbody tr th:only-of-type {\n",
       "        vertical-align: middle;\n",
       "    }\n",
       "\n",
       "    .dataframe tbody tr th {\n",
       "        vertical-align: top;\n",
       "    }\n",
       "\n",
       "    .dataframe thead th {\n",
       "        text-align: right;\n",
       "    }\n",
       "</style>\n",
       "<table border=\"1\" class=\"dataframe\">\n",
       "  <thead>\n",
       "    <tr style=\"text-align: right;\">\n",
       "      <th></th>\n",
       "      <th>id</th>\n",
       "      <th>name</th>\n",
       "      <th>username</th>\n",
       "    </tr>\n",
       "  </thead>\n",
       "  <tbody>\n",
       "    <tr>\n",
       "      <th>0</th>\n",
       "      <td>1331543838410870784</td>\n",
       "      <td>ESDAAPP</td>\n",
       "      <td>esdaapp</td>\n",
       "    </tr>\n",
       "    <tr>\n",
       "      <th>1</th>\n",
       "      <td>267943190</td>\n",
       "      <td>AA&amp;MDSIF</td>\n",
       "      <td>aamdsif</td>\n",
       "    </tr>\n",
       "    <tr>\n",
       "      <th>2</th>\n",
       "      <td>560185948</td>\n",
       "      <td>hali</td>\n",
       "      <td>halimadawood</td>\n",
       "    </tr>\n",
       "    <tr>\n",
       "      <th>3</th>\n",
       "      <td>2361438294</td>\n",
       "      <td>Don Feazelle</td>\n",
       "      <td>DFeazelle</td>\n",
       "    </tr>\n",
       "    <tr>\n",
       "      <th>4</th>\n",
       "      <td>1381363018060161034</td>\n",
       "      <td>This is Our Shot 🇨🇦 #ThisIsOurShotCA</td>\n",
       "      <td>thisisourshotca</td>\n",
       "    </tr>\n",
       "  </tbody>\n",
       "</table>\n",
       "</div>"
      ],
      "text/plain": [
       "                    id                                  name         username\n",
       "0  1331543838410870784                               ESDAAPP          esdaapp\n",
       "1            267943190                              AA&MDSIF          aamdsif\n",
       "2            560185948                                  hali     halimadawood\n",
       "3           2361438294                          Don Feazelle        DFeazelle\n",
       "4  1381363018060161034  This is Our Shot 🇨🇦 #ThisIsOurShotCA  thisisourshotca"
      ]
     },
     "execution_count": 159,
     "metadata": {},
     "output_type": "execute_result"
    }
   ],
   "source": [
    "user_info_2 = pd.DataFrame(data_response_2_dict['includes']['users'])\n",
    "user_info_2.head()\n",
    "### Shows the head of the tweets to make sure I'm seeing different names and usernames from above"
   ]
  },
  {
   "cell_type": "code",
   "execution_count": 166,
   "id": "49224eac",
   "metadata": {},
   "outputs": [
    {
     "data": {
      "text/html": [
       "<div>\n",
       "<style scoped>\n",
       "    .dataframe tbody tr th:only-of-type {\n",
       "        vertical-align: middle;\n",
       "    }\n",
       "\n",
       "    .dataframe tbody tr th {\n",
       "        vertical-align: top;\n",
       "    }\n",
       "\n",
       "    .dataframe thead th {\n",
       "        text-align: right;\n",
       "    }\n",
       "</style>\n",
       "<table border=\"1\" class=\"dataframe\">\n",
       "  <thead>\n",
       "    <tr style=\"text-align: right;\">\n",
       "      <th></th>\n",
       "      <th>created_at</th>\n",
       "      <th>id</th>\n",
       "      <th>reply_settings</th>\n",
       "      <th>public_metrics</th>\n",
       "      <th>text</th>\n",
       "      <th>author_id</th>\n",
       "      <th>lang</th>\n",
       "      <th>name</th>\n",
       "      <th>username</th>\n",
       "    </tr>\n",
       "  </thead>\n",
       "  <tbody>\n",
       "    <tr>\n",
       "      <th>0</th>\n",
       "      <td>2021-10-18T12:00:25.000Z</td>\n",
       "      <td>1450069252862615552</td>\n",
       "      <td>everyone</td>\n",
       "      <td>{'retweet_count': 0, 'reply_count': 0, 'like_c...</td>\n",
       "      <td>Thanks to Daniel Whelan Tiling &amp;amp; Bathrooms...</td>\n",
       "      <td>1331543838410870784</td>\n",
       "      <td>en</td>\n",
       "      <td>ESDAAPP</td>\n",
       "      <td>esdaapp</td>\n",
       "    </tr>\n",
       "    <tr>\n",
       "      <th>1</th>\n",
       "      <td>2021-10-18T11:58:38.000Z</td>\n",
       "      <td>1450068805896527875</td>\n",
       "      <td>everyone</td>\n",
       "      <td>{'retweet_count': 4, 'reply_count': 0, 'like_c...</td>\n",
       "      <td>RT @StutterLoudly: Wore my @thisisourshotca sh...</td>\n",
       "      <td>267943190</td>\n",
       "      <td>en</td>\n",
       "      <td>AA&amp;MDSIF</td>\n",
       "      <td>aamdsif</td>\n",
       "    </tr>\n",
       "    <tr>\n",
       "      <th>2</th>\n",
       "      <td>2021-10-18T11:42:55.000Z</td>\n",
       "      <td>1450064850277830657</td>\n",
       "      <td>everyone</td>\n",
       "      <td>{'retweet_count': 4, 'reply_count': 0, 'like_c...</td>\n",
       "      <td>RT @JackieHoare3: Sleep problems are common po...</td>\n",
       "      <td>560185948</td>\n",
       "      <td>en</td>\n",
       "      <td>hali</td>\n",
       "      <td>halimadawood</td>\n",
       "    </tr>\n",
       "    <tr>\n",
       "      <th>3</th>\n",
       "      <td>2021-10-18T11:24:43.000Z</td>\n",
       "      <td>1450060267765866501</td>\n",
       "      <td>everyone</td>\n",
       "      <td>{'retweet_count': 0, 'reply_count': 0, 'like_c...</td>\n",
       "      <td>I was Treated Successfully for COVID-19 by the...</td>\n",
       "      <td>2361438294</td>\n",
       "      <td>en</td>\n",
       "      <td>Don Feazelle</td>\n",
       "      <td>DFeazelle</td>\n",
       "    </tr>\n",
       "    <tr>\n",
       "      <th>4</th>\n",
       "      <td>2021-10-18T11:14:39.000Z</td>\n",
       "      <td>1450057736285261825</td>\n",
       "      <td>everyone</td>\n",
       "      <td>{'retweet_count': 4, 'reply_count': 0, 'like_c...</td>\n",
       "      <td>RT @StutterLoudly: Wore my @thisisourshotca sh...</td>\n",
       "      <td>1381363018060161034</td>\n",
       "      <td>en</td>\n",
       "      <td>This is Our Shot 🇨🇦 #ThisIsOurShotCA</td>\n",
       "      <td>thisisourshotca</td>\n",
       "    </tr>\n",
       "  </tbody>\n",
       "</table>\n",
       "</div>"
      ],
      "text/plain": [
       "                 created_at                   id reply_settings  \\\n",
       "0  2021-10-18T12:00:25.000Z  1450069252862615552       everyone   \n",
       "1  2021-10-18T11:58:38.000Z  1450068805896527875       everyone   \n",
       "2  2021-10-18T11:42:55.000Z  1450064850277830657       everyone   \n",
       "3  2021-10-18T11:24:43.000Z  1450060267765866501       everyone   \n",
       "4  2021-10-18T11:14:39.000Z  1450057736285261825       everyone   \n",
       "\n",
       "                                      public_metrics  \\\n",
       "0  {'retweet_count': 0, 'reply_count': 0, 'like_c...   \n",
       "1  {'retweet_count': 4, 'reply_count': 0, 'like_c...   \n",
       "2  {'retweet_count': 4, 'reply_count': 0, 'like_c...   \n",
       "3  {'retweet_count': 0, 'reply_count': 0, 'like_c...   \n",
       "4  {'retweet_count': 4, 'reply_count': 0, 'like_c...   \n",
       "\n",
       "                                                text            author_id  \\\n",
       "0  Thanks to Daniel Whelan Tiling &amp; Bathrooms...  1331543838410870784   \n",
       "1  RT @StutterLoudly: Wore my @thisisourshotca sh...            267943190   \n",
       "2  RT @JackieHoare3: Sleep problems are common po...            560185948   \n",
       "3  I was Treated Successfully for COVID-19 by the...           2361438294   \n",
       "4  RT @StutterLoudly: Wore my @thisisourshotca sh...  1381363018060161034   \n",
       "\n",
       "  lang                                  name         username  \n",
       "0   en                               ESDAAPP          esdaapp  \n",
       "1   en                              AA&MDSIF          aamdsif  \n",
       "2   en                                  hali     halimadawood  \n",
       "3   en                          Don Feazelle        DFeazelle  \n",
       "4   en  This is Our Shot 🇨🇦 #ThisIsOurShotCA  thisisourshotca  "
      ]
     },
     "execution_count": 166,
     "metadata": {},
     "output_type": "execute_result"
    }
   ],
   "source": [
    "health_tweets_df_2['name'] = user_info_2['name']\n",
    "health_tweets_df_2['username'] = user_info_2['username']\n",
    "health_tweets_df_2.head()\n",
    "### I'm using the head() method just to show that I'm doing the process correctly."
   ]
  },
  {
   "cell_type": "markdown",
   "id": "b6baea08",
   "metadata": {},
   "source": [
    "## Appending the Second DataFrame\n",
    "#### Now that I've got the correct DataFrame I can append the second set of 100 tweets "
   ]
  },
  {
   "cell_type": "code",
   "execution_count": 175,
   "id": "1e54c3ac",
   "metadata": {},
   "outputs": [
    {
     "data": {
      "text/html": [
       "<div>\n",
       "<style scoped>\n",
       "    .dataframe tbody tr th:only-of-type {\n",
       "        vertical-align: middle;\n",
       "    }\n",
       "\n",
       "    .dataframe tbody tr th {\n",
       "        vertical-align: top;\n",
       "    }\n",
       "\n",
       "    .dataframe thead th {\n",
       "        text-align: right;\n",
       "    }\n",
       "</style>\n",
       "<table border=\"1\" class=\"dataframe\">\n",
       "  <thead>\n",
       "    <tr style=\"text-align: right;\">\n",
       "      <th></th>\n",
       "      <th>reply_settings</th>\n",
       "      <th>author_id</th>\n",
       "      <th>id</th>\n",
       "      <th>created_at</th>\n",
       "      <th>public_metrics</th>\n",
       "      <th>lang</th>\n",
       "      <th>text</th>\n",
       "      <th>name</th>\n",
       "      <th>username</th>\n",
       "    </tr>\n",
       "  </thead>\n",
       "  <tbody>\n",
       "    <tr>\n",
       "      <th>195</th>\n",
       "      <td>everyone</td>\n",
       "      <td>707975819667312640</td>\n",
       "      <td>1449311139884683265</td>\n",
       "      <td>2021-10-16T09:47:57.000Z</td>\n",
       "      <td>{'retweet_count': 11, 'reply_count': 0, 'like_...</td>\n",
       "      <td>en</td>\n",
       "      <td>RT @WHOPhilippines: To our health care workers...</td>\n",
       "      <td>NaN</td>\n",
       "      <td>NaN</td>\n",
       "    </tr>\n",
       "    <tr>\n",
       "      <th>196</th>\n",
       "      <td>everyone</td>\n",
       "      <td>1207023905011093504</td>\n",
       "      <td>1449309871560605698</td>\n",
       "      <td>2021-10-16T09:42:54.000Z</td>\n",
       "      <td>{'retweet_count': 0, 'reply_count': 0, 'like_c...</td>\n",
       "      <td>en</td>\n",
       "      <td>#Wow*\\n\\nWith #AbsentLeadership* &amp;amp;\\n#Hidin...</td>\n",
       "      <td>NaN</td>\n",
       "      <td>NaN</td>\n",
       "    </tr>\n",
       "    <tr>\n",
       "      <th>197</th>\n",
       "      <td>everyone</td>\n",
       "      <td>1341201275694804995</td>\n",
       "      <td>1449281195053916165</td>\n",
       "      <td>2021-10-16T07:48:57.000Z</td>\n",
       "      <td>{'retweet_count': 0, 'reply_count': 0, 'like_c...</td>\n",
       "      <td>en</td>\n",
       "      <td>Good morning, make sure you make it count.💪🏾😘\\...</td>\n",
       "      <td>NaN</td>\n",
       "      <td>NaN</td>\n",
       "    </tr>\n",
       "    <tr>\n",
       "      <th>198</th>\n",
       "      <td>everyone</td>\n",
       "      <td>1341201275694804995</td>\n",
       "      <td>1449280329307631621</td>\n",
       "      <td>2021-10-16T07:45:31.000Z</td>\n",
       "      <td>{'retweet_count': 0, 'reply_count': 0, 'like_c...</td>\n",
       "      <td>en</td>\n",
       "      <td>Good morning, make sure you make it count.💪🏾😘\\...</td>\n",
       "      <td>NaN</td>\n",
       "      <td>NaN</td>\n",
       "    </tr>\n",
       "    <tr>\n",
       "      <th>199</th>\n",
       "      <td>everyone</td>\n",
       "      <td>1052522106720673793</td>\n",
       "      <td>1449278978565496832</td>\n",
       "      <td>2021-10-16T07:40:09.000Z</td>\n",
       "      <td>{'retweet_count': 0, 'reply_count': 0, 'like_c...</td>\n",
       "      <td>en</td>\n",
       "      <td>Compassion Conference \\nInternational speakers...</td>\n",
       "      <td>NaN</td>\n",
       "      <td>NaN</td>\n",
       "    </tr>\n",
       "  </tbody>\n",
       "</table>\n",
       "</div>"
      ],
      "text/plain": [
       "    reply_settings            author_id                   id  \\\n",
       "195       everyone   707975819667312640  1449311139884683265   \n",
       "196       everyone  1207023905011093504  1449309871560605698   \n",
       "197       everyone  1341201275694804995  1449281195053916165   \n",
       "198       everyone  1341201275694804995  1449280329307631621   \n",
       "199       everyone  1052522106720673793  1449278978565496832   \n",
       "\n",
       "                   created_at  \\\n",
       "195  2021-10-16T09:47:57.000Z   \n",
       "196  2021-10-16T09:42:54.000Z   \n",
       "197  2021-10-16T07:48:57.000Z   \n",
       "198  2021-10-16T07:45:31.000Z   \n",
       "199  2021-10-16T07:40:09.000Z   \n",
       "\n",
       "                                        public_metrics lang  \\\n",
       "195  {'retweet_count': 11, 'reply_count': 0, 'like_...   en   \n",
       "196  {'retweet_count': 0, 'reply_count': 0, 'like_c...   en   \n",
       "197  {'retweet_count': 0, 'reply_count': 0, 'like_c...   en   \n",
       "198  {'retweet_count': 0, 'reply_count': 0, 'like_c...   en   \n",
       "199  {'retweet_count': 0, 'reply_count': 0, 'like_c...   en   \n",
       "\n",
       "                                                  text name username  \n",
       "195  RT @WHOPhilippines: To our health care workers...  NaN      NaN  \n",
       "196  #Wow*\\n\\nWith #AbsentLeadership* &amp;\\n#Hidin...  NaN      NaN  \n",
       "197  Good morning, make sure you make it count.💪🏾😘\\...  NaN      NaN  \n",
       "198  Good morning, make sure you make it count.💪🏾😘\\...  NaN      NaN  \n",
       "199  Compassion Conference \\nInternational speakers...  NaN      NaN  "
      ]
     },
     "execution_count": 175,
     "metadata": {},
     "output_type": "execute_result"
    }
   ],
   "source": [
    "second_df = health_tweets_df.append(health_tweets_df_2, ignore_index = True)\n",
    "second_df.tail()\n",
    "### I'm using tail to show that there's now 200 tweets in the DataFrame."
   ]
  },
  {
   "cell_type": "markdown",
   "id": "21bd7b2b",
   "metadata": {},
   "source": [
    "## Finishing the DataFrame\n",
    "#### Now I'll repeat the process from the second DataFrame to get my last set of 100 tweets to get up to 300 tweets."
   ]
  },
  {
   "cell_type": "code",
   "execution_count": 176,
   "id": "a79512ee",
   "metadata": {},
   "outputs": [
    {
     "data": {
      "text/plain": [
       "{'newest_id': '1450069252862615552',\n",
       " 'oldest_id': '1449278978565496832',\n",
       " 'result_count': 100,\n",
       " 'next_token': 'b26v89c19zqg8o3fpds9swo6zejy31a63nfzda944qrnh'}"
      ]
     },
     "execution_count": 176,
     "metadata": {},
     "output_type": "execute_result"
    }
   ],
   "source": [
    "data_response_2_dict['meta']"
   ]
  },
  {
   "cell_type": "markdown",
   "id": "6886b3fc",
   "metadata": {},
   "source": [
    "#### Here I'll set up the third url for my next request to the server."
   ]
  },
  {
   "cell_type": "code",
   "execution_count": 177,
   "id": "02d59bf6",
   "metadata": {},
   "outputs": [
    {
     "data": {
      "text/plain": [
       "'https://api.twitter.com/2/tweets/search/recent?query=%28%23frontlineworker%20OR%20%23healthcareworker%20OR%20%23frontline%29%20lang%3Aen&max_results=100&tweet.fields=public_metrics,created_at,author_id,lang,reply_settings&expansions=author_id&user.fields=username&next_token=b26v89c19zqg8o3fpds9swo6zejy31a63nfzda944qrnh'"
      ]
     },
     "execution_count": 177,
     "metadata": {},
     "output_type": "execute_result"
    }
   ],
   "source": [
    "third_final_url = final_url + '&next_token={}'.format(data_response_2_dict['meta']['next_token'])\n",
    "third_final_url"
   ]
  },
  {
   "cell_type": "markdown",
   "id": "b0835279",
   "metadata": {},
   "source": [
    "#### Now I'll make the last request to the server for my final set of tweets."
   ]
  },
  {
   "cell_type": "code",
   "execution_count": 178,
   "id": "694af5d7",
   "metadata": {},
   "outputs": [],
   "source": [
    "data_response_3 = requests.request(\"GET\", url = third_final_url, headers = header)"
   ]
  },
  {
   "cell_type": "code",
   "execution_count": 179,
   "id": "a4e5a49f",
   "metadata": {},
   "outputs": [],
   "source": [
    "data_response_3_dict = json.loads(data_response_3.text)"
   ]
  },
  {
   "cell_type": "code",
   "execution_count": 180,
   "id": "e58d9801",
   "metadata": {},
   "outputs": [
    {
     "data": {
      "text/html": [
       "<div>\n",
       "<style scoped>\n",
       "    .dataframe tbody tr th:only-of-type {\n",
       "        vertical-align: middle;\n",
       "    }\n",
       "\n",
       "    .dataframe tbody tr th {\n",
       "        vertical-align: top;\n",
       "    }\n",
       "\n",
       "    .dataframe thead th {\n",
       "        text-align: right;\n",
       "    }\n",
       "</style>\n",
       "<table border=\"1\" class=\"dataframe\">\n",
       "  <thead>\n",
       "    <tr style=\"text-align: right;\">\n",
       "      <th></th>\n",
       "      <th>text</th>\n",
       "      <th>created_at</th>\n",
       "      <th>author_id</th>\n",
       "      <th>lang</th>\n",
       "      <th>public_metrics</th>\n",
       "      <th>reply_settings</th>\n",
       "      <th>id</th>\n",
       "    </tr>\n",
       "  </thead>\n",
       "  <tbody>\n",
       "    <tr>\n",
       "      <th>0</th>\n",
       "      <td>Good morning, make sure you make it count.💪🏾😘\\...</td>\n",
       "      <td>2021-10-16T07:37:54.000Z</td>\n",
       "      <td>1341201275694804995</td>\n",
       "      <td>en</td>\n",
       "      <td>{'retweet_count': 0, 'reply_count': 0, 'like_c...</td>\n",
       "      <td>everyone</td>\n",
       "      <td>1449278411311042562</td>\n",
       "    </tr>\n",
       "    <tr>\n",
       "      <th>1</th>\n",
       "      <td>RT @Gillanjenner: Please be patient Londoners,...</td>\n",
       "      <td>2021-10-16T07:31:40.000Z</td>\n",
       "      <td>3618354350</td>\n",
       "      <td>en</td>\n",
       "      <td>{'retweet_count': 1, 'reply_count': 0, 'like_c...</td>\n",
       "      <td>everyone</td>\n",
       "      <td>1449276841907339264</td>\n",
       "    </tr>\n",
       "    <tr>\n",
       "      <th>2</th>\n",
       "      <td>RT @Pamela_Uba: Back to GMIT next Monday as a ...</td>\n",
       "      <td>2021-10-16T07:19:04.000Z</td>\n",
       "      <td>1158289945</td>\n",
       "      <td>en</td>\n",
       "      <td>{'retweet_count': 5, 'reply_count': 0, 'like_c...</td>\n",
       "      <td>everyone</td>\n",
       "      <td>1449273670979948545</td>\n",
       "    </tr>\n",
       "    <tr>\n",
       "      <th>3</th>\n",
       "      <td>RT @Gillanjenner: The police already have 150 ...</td>\n",
       "      <td>2021-10-16T07:01:25.000Z</td>\n",
       "      <td>3618354350</td>\n",
       "      <td>en</td>\n",
       "      <td>{'retweet_count': 2, 'reply_count': 0, 'like_c...</td>\n",
       "      <td>everyone</td>\n",
       "      <td>1449269230776500226</td>\n",
       "    </tr>\n",
       "    <tr>\n",
       "      <th>4</th>\n",
       "      <td>Wishing I was still in bed\\n#keyworker\\n#Covid...</td>\n",
       "      <td>2021-10-16T06:27:35.000Z</td>\n",
       "      <td>1214498427435925504</td>\n",
       "      <td>en</td>\n",
       "      <td>{'retweet_count': 0, 'reply_count': 2, 'like_c...</td>\n",
       "      <td>everyone</td>\n",
       "      <td>1449260715022426113</td>\n",
       "    </tr>\n",
       "  </tbody>\n",
       "</table>\n",
       "</div>"
      ],
      "text/plain": [
       "                                                text  \\\n",
       "0  Good morning, make sure you make it count.💪🏾😘\\...   \n",
       "1  RT @Gillanjenner: Please be patient Londoners,...   \n",
       "2  RT @Pamela_Uba: Back to GMIT next Monday as a ...   \n",
       "3  RT @Gillanjenner: The police already have 150 ...   \n",
       "4  Wishing I was still in bed\\n#keyworker\\n#Covid...   \n",
       "\n",
       "                 created_at            author_id lang  \\\n",
       "0  2021-10-16T07:37:54.000Z  1341201275694804995   en   \n",
       "1  2021-10-16T07:31:40.000Z           3618354350   en   \n",
       "2  2021-10-16T07:19:04.000Z           1158289945   en   \n",
       "3  2021-10-16T07:01:25.000Z           3618354350   en   \n",
       "4  2021-10-16T06:27:35.000Z  1214498427435925504   en   \n",
       "\n",
       "                                      public_metrics reply_settings  \\\n",
       "0  {'retweet_count': 0, 'reply_count': 0, 'like_c...       everyone   \n",
       "1  {'retweet_count': 1, 'reply_count': 0, 'like_c...       everyone   \n",
       "2  {'retweet_count': 5, 'reply_count': 0, 'like_c...       everyone   \n",
       "3  {'retweet_count': 2, 'reply_count': 0, 'like_c...       everyone   \n",
       "4  {'retweet_count': 0, 'reply_count': 2, 'like_c...       everyone   \n",
       "\n",
       "                    id  \n",
       "0  1449278411311042562  \n",
       "1  1449276841907339264  \n",
       "2  1449273670979948545  \n",
       "3  1449269230776500226  \n",
       "4  1449260715022426113  "
      ]
     },
     "execution_count": 180,
     "metadata": {},
     "output_type": "execute_result"
    }
   ],
   "source": [
    "health_tweets_df_3 = pd.DataFrame(data_response_3_dict['data'])\n",
    "health_tweets_df_3.head()\n",
    "### Show the head to make sure I'm on the right track"
   ]
  },
  {
   "cell_type": "code",
   "execution_count": 181,
   "id": "4df8082c",
   "metadata": {},
   "outputs": [
    {
     "data": {
      "text/html": [
       "<div>\n",
       "<style scoped>\n",
       "    .dataframe tbody tr th:only-of-type {\n",
       "        vertical-align: middle;\n",
       "    }\n",
       "\n",
       "    .dataframe tbody tr th {\n",
       "        vertical-align: top;\n",
       "    }\n",
       "\n",
       "    .dataframe thead th {\n",
       "        text-align: right;\n",
       "    }\n",
       "</style>\n",
       "<table border=\"1\" class=\"dataframe\">\n",
       "  <thead>\n",
       "    <tr style=\"text-align: right;\">\n",
       "      <th></th>\n",
       "      <th>id</th>\n",
       "      <th>name</th>\n",
       "      <th>username</th>\n",
       "    </tr>\n",
       "  </thead>\n",
       "  <tbody>\n",
       "    <tr>\n",
       "      <th>0</th>\n",
       "      <td>1341201275694804995</td>\n",
       "      <td>Lovely-Rowe’s Fitness</td>\n",
       "      <td>rowes_fitness</td>\n",
       "    </tr>\n",
       "    <tr>\n",
       "      <th>1</th>\n",
       "      <td>3618354350</td>\n",
       "      <td>LndOntRetweets</td>\n",
       "      <td>LndOntRetweets</td>\n",
       "    </tr>\n",
       "    <tr>\n",
       "      <th>2</th>\n",
       "      <td>1158289945</td>\n",
       "      <td>Marymcg</td>\n",
       "      <td>mcgrathmf</td>\n",
       "    </tr>\n",
       "    <tr>\n",
       "      <th>3</th>\n",
       "      <td>1214498427435925504</td>\n",
       "      <td>ⵣأروى 🇱🇾 🏴󠁧󠁢󠁥󠁮󠁧󠁿</td>\n",
       "      <td>lovemyhaters98</td>\n",
       "    </tr>\n",
       "    <tr>\n",
       "      <th>4</th>\n",
       "      <td>519943460</td>\n",
       "      <td>Scotty</td>\n",
       "      <td>ComBarca</td>\n",
       "    </tr>\n",
       "  </tbody>\n",
       "</table>\n",
       "</div>"
      ],
      "text/plain": [
       "                    id                   name        username\n",
       "0  1341201275694804995  Lovely-Rowe’s Fitness   rowes_fitness\n",
       "1           3618354350         LndOntRetweets  LndOntRetweets\n",
       "2           1158289945                Marymcg       mcgrathmf\n",
       "3  1214498427435925504       ⵣأروى 🇱🇾 🏴󠁧󠁢󠁥󠁮󠁧󠁿  lovemyhaters98\n",
       "4            519943460                 Scotty        ComBarca"
      ]
     },
     "execution_count": 181,
     "metadata": {},
     "output_type": "execute_result"
    }
   ],
   "source": [
    "user_info_3 = pd.DataFrame(data_response_3_dict['includes']['users'])\n",
    "user_info_3.head()\n",
    "### Shows the head of the tweets to make sure I'm seeing different names and usernames from above"
   ]
  },
  {
   "cell_type": "code",
   "execution_count": 182,
   "id": "dd537d48",
   "metadata": {},
   "outputs": [
    {
     "data": {
      "text/html": [
       "<div>\n",
       "<style scoped>\n",
       "    .dataframe tbody tr th:only-of-type {\n",
       "        vertical-align: middle;\n",
       "    }\n",
       "\n",
       "    .dataframe tbody tr th {\n",
       "        vertical-align: top;\n",
       "    }\n",
       "\n",
       "    .dataframe thead th {\n",
       "        text-align: right;\n",
       "    }\n",
       "</style>\n",
       "<table border=\"1\" class=\"dataframe\">\n",
       "  <thead>\n",
       "    <tr style=\"text-align: right;\">\n",
       "      <th></th>\n",
       "      <th>text</th>\n",
       "      <th>created_at</th>\n",
       "      <th>author_id</th>\n",
       "      <th>lang</th>\n",
       "      <th>public_metrics</th>\n",
       "      <th>reply_settings</th>\n",
       "      <th>id</th>\n",
       "      <th>name</th>\n",
       "      <th>username</th>\n",
       "    </tr>\n",
       "  </thead>\n",
       "  <tbody>\n",
       "    <tr>\n",
       "      <th>0</th>\n",
       "      <td>Good morning, make sure you make it count.💪🏾😘\\...</td>\n",
       "      <td>2021-10-16T07:37:54.000Z</td>\n",
       "      <td>1341201275694804995</td>\n",
       "      <td>en</td>\n",
       "      <td>{'retweet_count': 0, 'reply_count': 0, 'like_c...</td>\n",
       "      <td>everyone</td>\n",
       "      <td>1449278411311042562</td>\n",
       "      <td>Lovely-Rowe’s Fitness</td>\n",
       "      <td>rowes_fitness</td>\n",
       "    </tr>\n",
       "    <tr>\n",
       "      <th>1</th>\n",
       "      <td>RT @Gillanjenner: Please be patient Londoners,...</td>\n",
       "      <td>2021-10-16T07:31:40.000Z</td>\n",
       "      <td>3618354350</td>\n",
       "      <td>en</td>\n",
       "      <td>{'retweet_count': 1, 'reply_count': 0, 'like_c...</td>\n",
       "      <td>everyone</td>\n",
       "      <td>1449276841907339264</td>\n",
       "      <td>LndOntRetweets</td>\n",
       "      <td>LndOntRetweets</td>\n",
       "    </tr>\n",
       "    <tr>\n",
       "      <th>2</th>\n",
       "      <td>RT @Pamela_Uba: Back to GMIT next Monday as a ...</td>\n",
       "      <td>2021-10-16T07:19:04.000Z</td>\n",
       "      <td>1158289945</td>\n",
       "      <td>en</td>\n",
       "      <td>{'retweet_count': 5, 'reply_count': 0, 'like_c...</td>\n",
       "      <td>everyone</td>\n",
       "      <td>1449273670979948545</td>\n",
       "      <td>Marymcg</td>\n",
       "      <td>mcgrathmf</td>\n",
       "    </tr>\n",
       "    <tr>\n",
       "      <th>3</th>\n",
       "      <td>RT @Gillanjenner: The police already have 150 ...</td>\n",
       "      <td>2021-10-16T07:01:25.000Z</td>\n",
       "      <td>3618354350</td>\n",
       "      <td>en</td>\n",
       "      <td>{'retweet_count': 2, 'reply_count': 0, 'like_c...</td>\n",
       "      <td>everyone</td>\n",
       "      <td>1449269230776500226</td>\n",
       "      <td>ⵣأروى 🇱🇾 🏴󠁧󠁢󠁥󠁮󠁧󠁿</td>\n",
       "      <td>lovemyhaters98</td>\n",
       "    </tr>\n",
       "    <tr>\n",
       "      <th>4</th>\n",
       "      <td>Wishing I was still in bed\\n#keyworker\\n#Covid...</td>\n",
       "      <td>2021-10-16T06:27:35.000Z</td>\n",
       "      <td>1214498427435925504</td>\n",
       "      <td>en</td>\n",
       "      <td>{'retweet_count': 0, 'reply_count': 2, 'like_c...</td>\n",
       "      <td>everyone</td>\n",
       "      <td>1449260715022426113</td>\n",
       "      <td>Scotty</td>\n",
       "      <td>ComBarca</td>\n",
       "    </tr>\n",
       "  </tbody>\n",
       "</table>\n",
       "</div>"
      ],
      "text/plain": [
       "                                                text  \\\n",
       "0  Good morning, make sure you make it count.💪🏾😘\\...   \n",
       "1  RT @Gillanjenner: Please be patient Londoners,...   \n",
       "2  RT @Pamela_Uba: Back to GMIT next Monday as a ...   \n",
       "3  RT @Gillanjenner: The police already have 150 ...   \n",
       "4  Wishing I was still in bed\\n#keyworker\\n#Covid...   \n",
       "\n",
       "                 created_at            author_id lang  \\\n",
       "0  2021-10-16T07:37:54.000Z  1341201275694804995   en   \n",
       "1  2021-10-16T07:31:40.000Z           3618354350   en   \n",
       "2  2021-10-16T07:19:04.000Z           1158289945   en   \n",
       "3  2021-10-16T07:01:25.000Z           3618354350   en   \n",
       "4  2021-10-16T06:27:35.000Z  1214498427435925504   en   \n",
       "\n",
       "                                      public_metrics reply_settings  \\\n",
       "0  {'retweet_count': 0, 'reply_count': 0, 'like_c...       everyone   \n",
       "1  {'retweet_count': 1, 'reply_count': 0, 'like_c...       everyone   \n",
       "2  {'retweet_count': 5, 'reply_count': 0, 'like_c...       everyone   \n",
       "3  {'retweet_count': 2, 'reply_count': 0, 'like_c...       everyone   \n",
       "4  {'retweet_count': 0, 'reply_count': 2, 'like_c...       everyone   \n",
       "\n",
       "                    id                   name        username  \n",
       "0  1449278411311042562  Lovely-Rowe’s Fitness   rowes_fitness  \n",
       "1  1449276841907339264         LndOntRetweets  LndOntRetweets  \n",
       "2  1449273670979948545                Marymcg       mcgrathmf  \n",
       "3  1449269230776500226       ⵣأروى 🇱🇾 🏴󠁧󠁢󠁥󠁮󠁧󠁿  lovemyhaters98  \n",
       "4  1449260715022426113                 Scotty        ComBarca  "
      ]
     },
     "execution_count": 182,
     "metadata": {},
     "output_type": "execute_result"
    }
   ],
   "source": [
    "health_tweets_df_3['name'] = user_info_3['name']\n",
    "health_tweets_df_3['username'] = user_info_3['username']\n",
    "health_tweets_df_3.head()\n",
    "### I'm using the head() method just to show that I'm doing the process correctly."
   ]
  },
  {
   "cell_type": "markdown",
   "id": "bf7c7996",
   "metadata": {},
   "source": [
    "## Appending the Third and Final DataFrame\n",
    "#### Now that I've got the correct DataFrame I can append the third set of 100 tweets to complete the desired DataFrame of 300 tweets."
   ]
  },
  {
   "cell_type": "code",
   "execution_count": 183,
   "id": "c9acf270",
   "metadata": {},
   "outputs": [
    {
     "data": {
      "text/html": [
       "<div>\n",
       "<style scoped>\n",
       "    .dataframe tbody tr th:only-of-type {\n",
       "        vertical-align: middle;\n",
       "    }\n",
       "\n",
       "    .dataframe tbody tr th {\n",
       "        vertical-align: top;\n",
       "    }\n",
       "\n",
       "    .dataframe thead th {\n",
       "        text-align: right;\n",
       "    }\n",
       "</style>\n",
       "<table border=\"1\" class=\"dataframe\">\n",
       "  <thead>\n",
       "    <tr style=\"text-align: right;\">\n",
       "      <th></th>\n",
       "      <th>reply_settings</th>\n",
       "      <th>author_id</th>\n",
       "      <th>id</th>\n",
       "      <th>created_at</th>\n",
       "      <th>public_metrics</th>\n",
       "      <th>lang</th>\n",
       "      <th>text</th>\n",
       "      <th>name</th>\n",
       "      <th>username</th>\n",
       "    </tr>\n",
       "  </thead>\n",
       "  <tbody>\n",
       "    <tr>\n",
       "      <th>295</th>\n",
       "      <td>everyone</td>\n",
       "      <td>539577630</td>\n",
       "      <td>1448884278666743819</td>\n",
       "      <td>2021-10-15T05:31:45.000Z</td>\n",
       "      <td>{'retweet_count': 4, 'reply_count': 0, 'like_c...</td>\n",
       "      <td>en</td>\n",
       "      <td>RT @UN_Pasifika: As #TeamFiji prepares to #Ope...</td>\n",
       "      <td>NaN</td>\n",
       "      <td>NaN</td>\n",
       "    </tr>\n",
       "    <tr>\n",
       "      <th>296</th>\n",
       "      <td>everyone</td>\n",
       "      <td>750947919273029632</td>\n",
       "      <td>1448883226903146501</td>\n",
       "      <td>2021-10-15T05:27:34.000Z</td>\n",
       "      <td>{'retweet_count': 165, 'reply_count': 0, 'like...</td>\n",
       "      <td>en</td>\n",
       "      <td>RT @Apollo24x7: Our humble attempt at thanking...</td>\n",
       "      <td>NaN</td>\n",
       "      <td>NaN</td>\n",
       "    </tr>\n",
       "    <tr>\n",
       "      <th>297</th>\n",
       "      <td>everyone</td>\n",
       "      <td>226122086</td>\n",
       "      <td>1448880011117748243</td>\n",
       "      <td>2021-10-15T05:14:48.000Z</td>\n",
       "      <td>{'retweet_count': 11, 'reply_count': 0, 'like_...</td>\n",
       "      <td>en</td>\n",
       "      <td>RT @WHOPhilippines: To our health care workers...</td>\n",
       "      <td>NaN</td>\n",
       "      <td>NaN</td>\n",
       "    </tr>\n",
       "    <tr>\n",
       "      <th>298</th>\n",
       "      <td>everyone</td>\n",
       "      <td>1008835429720715264</td>\n",
       "      <td>1448874310869741571</td>\n",
       "      <td>2021-10-15T04:52:09.000Z</td>\n",
       "      <td>{'retweet_count': 4, 'reply_count': 0, 'like_c...</td>\n",
       "      <td>en</td>\n",
       "      <td>RT @UN_Pasifika: As #TeamFiji prepares to #Ope...</td>\n",
       "      <td>NaN</td>\n",
       "      <td>NaN</td>\n",
       "    </tr>\n",
       "    <tr>\n",
       "      <th>299</th>\n",
       "      <td>everyone</td>\n",
       "      <td>1110823710</td>\n",
       "      <td>1448866712972038147</td>\n",
       "      <td>2021-10-15T04:21:57.000Z</td>\n",
       "      <td>{'retweet_count': 11, 'reply_count': 0, 'like_...</td>\n",
       "      <td>en</td>\n",
       "      <td>RT @WHOPhilippines: To our health care workers...</td>\n",
       "      <td>NaN</td>\n",
       "      <td>NaN</td>\n",
       "    </tr>\n",
       "  </tbody>\n",
       "</table>\n",
       "</div>"
      ],
      "text/plain": [
       "    reply_settings            author_id                   id  \\\n",
       "295       everyone            539577630  1448884278666743819   \n",
       "296       everyone   750947919273029632  1448883226903146501   \n",
       "297       everyone            226122086  1448880011117748243   \n",
       "298       everyone  1008835429720715264  1448874310869741571   \n",
       "299       everyone           1110823710  1448866712972038147   \n",
       "\n",
       "                   created_at  \\\n",
       "295  2021-10-15T05:31:45.000Z   \n",
       "296  2021-10-15T05:27:34.000Z   \n",
       "297  2021-10-15T05:14:48.000Z   \n",
       "298  2021-10-15T04:52:09.000Z   \n",
       "299  2021-10-15T04:21:57.000Z   \n",
       "\n",
       "                                        public_metrics lang  \\\n",
       "295  {'retweet_count': 4, 'reply_count': 0, 'like_c...   en   \n",
       "296  {'retweet_count': 165, 'reply_count': 0, 'like...   en   \n",
       "297  {'retweet_count': 11, 'reply_count': 0, 'like_...   en   \n",
       "298  {'retweet_count': 4, 'reply_count': 0, 'like_c...   en   \n",
       "299  {'retweet_count': 11, 'reply_count': 0, 'like_...   en   \n",
       "\n",
       "                                                  text name username  \n",
       "295  RT @UN_Pasifika: As #TeamFiji prepares to #Ope...  NaN      NaN  \n",
       "296  RT @Apollo24x7: Our humble attempt at thanking...  NaN      NaN  \n",
       "297  RT @WHOPhilippines: To our health care workers...  NaN      NaN  \n",
       "298  RT @UN_Pasifika: As #TeamFiji prepares to #Ope...  NaN      NaN  \n",
       "299  RT @WHOPhilippines: To our health care workers...  NaN      NaN  "
      ]
     },
     "execution_count": 183,
     "metadata": {},
     "output_type": "execute_result"
    }
   ],
   "source": [
    "final_health_df = second_df.append(health_tweets_df_3, ignore_index = True)\n",
    "final_health_df.tail()\n",
    "### I'm using tail to show that there's now 300 tweets in the DataFrame."
   ]
  },
  {
   "cell_type": "markdown",
   "id": "824597c6",
   "metadata": {},
   "source": [
    "## Creating a .CSV file for the DataFrame"
   ]
  },
  {
   "cell_type": "code",
   "execution_count": 184,
   "id": "5233fead",
   "metadata": {},
   "outputs": [],
   "source": [
    "final_health_df.to_csv('health_tweet_data.csv', header = True, sep = ',')"
   ]
  },
  {
   "cell_type": "markdown",
   "id": "dafafe4b",
   "metadata": {},
   "source": [
    "#### Showing that the directory contains the .csv file health_tweet_data.csv"
   ]
  },
  {
   "cell_type": "code",
   "execution_count": 187,
   "id": "fc5e381b",
   "metadata": {},
   "outputs": [
    {
     "name": "stdout",
     "output_type": "stream",
     "text": [
      "'likes' Report - Liam Merritt.ipynb\r\n",
      "BLS Data Call.ipynb\r\n",
      "Data in EMAT 9-21-21 Notes.ipynb\r\n",
      "HipHopAPP_keys.txt\r\n",
      "Notes 10-19-21 - Data Scraping.ipynb\r\n",
      "Notes 9-23-2021 & 9-28-2021 & 9-30-2021 - Data In Emat.ipynb\r\n",
      "Notes 9-30-2021 Data In EMAT.ipynb\r\n",
      "Pandas Notes 9-14-21.ipynb\r\n",
      "SQL Notes - 10-7-21.ipynb\r\n",
      "Twitter API Notes.ipynb\r\n",
      "Twitter Text Report - Liam Merritt.ipynb\r\n",
      "Twitter_API_key.txt\r\n",
      "bls_data.csv\r\n",
      "chinook.db\r\n",
      "chinook.zip\r\n",
      "health_tweet_data.csv\r\n"
     ]
    }
   ],
   "source": [
    "ls"
   ]
  },
  {
   "cell_type": "markdown",
   "id": "87540bdc",
   "metadata": {},
   "source": [
    "## Final Report"
   ]
  },
  {
   "cell_type": "markdown",
   "id": "febe9b12",
   "metadata": {},
   "source": [
    "#### Provide an overview that clearly states the driving question and links the question to the data collected, including a justification of the query you developed:"
   ]
  },
  {
   "cell_type": "markdown",
   "id": "6b21c189",
   "metadata": {},
   "source": [
    "The driving question that brought me to develop my query was whether or not healthcare/front line workers were more positive or negative in their tweets and interactions on Twitter. I utilized the hashtags #frontline, #frontlineworker, and #healthcareworker in the English language to create a query that could shed some light on the question that I had. I can justify this query by showing that all of the tweets were related to healthcare in some way and the #frontline and #frontlineworker tweets were all directly related to Twitter users' experiences of working on the front line during the pandemic. I used the tweet fields that were specified in the assignment such as: Tweet ID, author name, author handle, Tweet text, engagements, and creation time. I also chose to use the extra tweet field that gave the reply settings because I wanted to see how open to communication the users were when discussing their attitude toward healthcare and front line work during the pandemic."
   ]
  },
  {
   "cell_type": "markdown",
   "id": "c1efc51d",
   "metadata": {},
   "source": [
    "##### Describe the raw data structure and variables included in the data and document the data collection and any data wrangling needed to create a sensible DataFrame:"
   ]
  },
  {
   "cell_type": "markdown",
   "id": "d4acbd8d",
   "metadata": {},
   "source": [
    "I think I described the raw data structure and variables pretty thoroughly throughout this notebook so just refer to the above notations that I've made during my data wrangling and collection. I also show snippets of the DataFrames above."
   ]
  },
  {
   "cell_type": "markdown",
   "id": "b7b8a755",
   "metadata": {},
   "source": [
    "####  Include a clear and appropriate visualization:"
   ]
  },
  {
   "cell_type": "markdown",
   "id": "68480c1c",
   "metadata": {},
   "source": [
    "I'll show the head and tail end of my final DataFrame here just to exemplify that I created a DataFrame with 300 tweets using the queries and tweet fields specified above."
   ]
  },
  {
   "cell_type": "code",
   "execution_count": 190,
   "id": "e45c5580",
   "metadata": {},
   "outputs": [
    {
     "data": {
      "text/html": [
       "<div>\n",
       "<style scoped>\n",
       "    .dataframe tbody tr th:only-of-type {\n",
       "        vertical-align: middle;\n",
       "    }\n",
       "\n",
       "    .dataframe tbody tr th {\n",
       "        vertical-align: top;\n",
       "    }\n",
       "\n",
       "    .dataframe thead th {\n",
       "        text-align: right;\n",
       "    }\n",
       "</style>\n",
       "<table border=\"1\" class=\"dataframe\">\n",
       "  <thead>\n",
       "    <tr style=\"text-align: right;\">\n",
       "      <th></th>\n",
       "      <th>reply_settings</th>\n",
       "      <th>author_id</th>\n",
       "      <th>id</th>\n",
       "      <th>created_at</th>\n",
       "      <th>public_metrics</th>\n",
       "      <th>lang</th>\n",
       "      <th>text</th>\n",
       "      <th>name</th>\n",
       "      <th>username</th>\n",
       "    </tr>\n",
       "  </thead>\n",
       "  <tbody>\n",
       "    <tr>\n",
       "      <th>0</th>\n",
       "      <td>everyone</td>\n",
       "      <td>1325833659694407685</td>\n",
       "      <td>1450633234476326912</td>\n",
       "      <td>2021-10-20T01:21:29.000Z</td>\n",
       "      <td>{'retweet_count': 0, 'reply_count': 0, 'like_c...</td>\n",
       "      <td>en</td>\n",
       "      <td>#Mandates #BREAKING #news #Frontline workers n...</td>\n",
       "      <td>familiadeSantuccisays</td>\n",
       "      <td>FSantuccisays</td>\n",
       "    </tr>\n",
       "    <tr>\n",
       "      <th>1</th>\n",
       "      <td>everyone</td>\n",
       "      <td>1325833659694407685</td>\n",
       "      <td>1450632511365734401</td>\n",
       "      <td>2021-10-20T01:18:36.000Z</td>\n",
       "      <td>{'retweet_count': 0, 'reply_count': 0, 'like_c...</td>\n",
       "      <td>en</td>\n",
       "      <td>#Mandates #BREAKING #news #Frontline workers n...</td>\n",
       "      <td>TxTiny</td>\n",
       "      <td>TxTiny</td>\n",
       "    </tr>\n",
       "    <tr>\n",
       "      <th>2</th>\n",
       "      <td>everyone</td>\n",
       "      <td>18393144</td>\n",
       "      <td>1450629923022987264</td>\n",
       "      <td>2021-10-20T01:08:19.000Z</td>\n",
       "      <td>{'retweet_count': 1, 'reply_count': 0, 'like_c...</td>\n",
       "      <td>en</td>\n",
       "      <td>RT @FSantuccisays: #Mandates #BREAKING #news #...</td>\n",
       "      <td>Mariana T.</td>\n",
       "      <td>marianatrobosky</td>\n",
       "    </tr>\n",
       "    <tr>\n",
       "      <th>3</th>\n",
       "      <td>everyone</td>\n",
       "      <td>4596301403</td>\n",
       "      <td>1450628663783956483</td>\n",
       "      <td>2021-10-20T01:03:19.000Z</td>\n",
       "      <td>{'retweet_count': 3, 'reply_count': 0, 'like_c...</td>\n",
       "      <td>en</td>\n",
       "      <td>RT @reliefweb: .@MSF's report, “Adding salt to...</td>\n",
       "      <td>PCDN</td>\n",
       "      <td>pcdnetwork</td>\n",
       "    </tr>\n",
       "    <tr>\n",
       "      <th>4</th>\n",
       "      <td>everyone</td>\n",
       "      <td>34911505</td>\n",
       "      <td>1450625935062020097</td>\n",
       "      <td>2021-10-20T00:52:28.000Z</td>\n",
       "      <td>{'retweet_count': 3, 'reply_count': 0, 'like_c...</td>\n",
       "      <td>en</td>\n",
       "      <td>RT @reliefweb: .@MSF's report, “Adding salt to...</td>\n",
       "      <td>LillyGrillzit</td>\n",
       "      <td>LillyGrillzit</td>\n",
       "    </tr>\n",
       "  </tbody>\n",
       "</table>\n",
       "</div>"
      ],
      "text/plain": [
       "  reply_settings            author_id                   id  \\\n",
       "0       everyone  1325833659694407685  1450633234476326912   \n",
       "1       everyone  1325833659694407685  1450632511365734401   \n",
       "2       everyone             18393144  1450629923022987264   \n",
       "3       everyone           4596301403  1450628663783956483   \n",
       "4       everyone             34911505  1450625935062020097   \n",
       "\n",
       "                 created_at  \\\n",
       "0  2021-10-20T01:21:29.000Z   \n",
       "1  2021-10-20T01:18:36.000Z   \n",
       "2  2021-10-20T01:08:19.000Z   \n",
       "3  2021-10-20T01:03:19.000Z   \n",
       "4  2021-10-20T00:52:28.000Z   \n",
       "\n",
       "                                      public_metrics lang  \\\n",
       "0  {'retweet_count': 0, 'reply_count': 0, 'like_c...   en   \n",
       "1  {'retweet_count': 0, 'reply_count': 0, 'like_c...   en   \n",
       "2  {'retweet_count': 1, 'reply_count': 0, 'like_c...   en   \n",
       "3  {'retweet_count': 3, 'reply_count': 0, 'like_c...   en   \n",
       "4  {'retweet_count': 3, 'reply_count': 0, 'like_c...   en   \n",
       "\n",
       "                                                text                   name  \\\n",
       "0  #Mandates #BREAKING #news #Frontline workers n...  familiadeSantuccisays   \n",
       "1  #Mandates #BREAKING #news #Frontline workers n...                 TxTiny   \n",
       "2  RT @FSantuccisays: #Mandates #BREAKING #news #...             Mariana T.   \n",
       "3  RT @reliefweb: .@MSF's report, “Adding salt to...                   PCDN   \n",
       "4  RT @reliefweb: .@MSF's report, “Adding salt to...          LillyGrillzit   \n",
       "\n",
       "          username  \n",
       "0    FSantuccisays  \n",
       "1           TxTiny  \n",
       "2  marianatrobosky  \n",
       "3       pcdnetwork  \n",
       "4    LillyGrillzit  "
      ]
     },
     "execution_count": 190,
     "metadata": {},
     "output_type": "execute_result"
    }
   ],
   "source": [
    "final_health_df.head()"
   ]
  },
  {
   "cell_type": "code",
   "execution_count": 191,
   "id": "cd27d77d",
   "metadata": {},
   "outputs": [
    {
     "data": {
      "text/html": [
       "<div>\n",
       "<style scoped>\n",
       "    .dataframe tbody tr th:only-of-type {\n",
       "        vertical-align: middle;\n",
       "    }\n",
       "\n",
       "    .dataframe tbody tr th {\n",
       "        vertical-align: top;\n",
       "    }\n",
       "\n",
       "    .dataframe thead th {\n",
       "        text-align: right;\n",
       "    }\n",
       "</style>\n",
       "<table border=\"1\" class=\"dataframe\">\n",
       "  <thead>\n",
       "    <tr style=\"text-align: right;\">\n",
       "      <th></th>\n",
       "      <th>reply_settings</th>\n",
       "      <th>author_id</th>\n",
       "      <th>id</th>\n",
       "      <th>created_at</th>\n",
       "      <th>public_metrics</th>\n",
       "      <th>lang</th>\n",
       "      <th>text</th>\n",
       "      <th>name</th>\n",
       "      <th>username</th>\n",
       "    </tr>\n",
       "  </thead>\n",
       "  <tbody>\n",
       "    <tr>\n",
       "      <th>295</th>\n",
       "      <td>everyone</td>\n",
       "      <td>539577630</td>\n",
       "      <td>1448884278666743819</td>\n",
       "      <td>2021-10-15T05:31:45.000Z</td>\n",
       "      <td>{'retweet_count': 4, 'reply_count': 0, 'like_c...</td>\n",
       "      <td>en</td>\n",
       "      <td>RT @UN_Pasifika: As #TeamFiji prepares to #Ope...</td>\n",
       "      <td>NaN</td>\n",
       "      <td>NaN</td>\n",
       "    </tr>\n",
       "    <tr>\n",
       "      <th>296</th>\n",
       "      <td>everyone</td>\n",
       "      <td>750947919273029632</td>\n",
       "      <td>1448883226903146501</td>\n",
       "      <td>2021-10-15T05:27:34.000Z</td>\n",
       "      <td>{'retweet_count': 165, 'reply_count': 0, 'like...</td>\n",
       "      <td>en</td>\n",
       "      <td>RT @Apollo24x7: Our humble attempt at thanking...</td>\n",
       "      <td>NaN</td>\n",
       "      <td>NaN</td>\n",
       "    </tr>\n",
       "    <tr>\n",
       "      <th>297</th>\n",
       "      <td>everyone</td>\n",
       "      <td>226122086</td>\n",
       "      <td>1448880011117748243</td>\n",
       "      <td>2021-10-15T05:14:48.000Z</td>\n",
       "      <td>{'retweet_count': 11, 'reply_count': 0, 'like_...</td>\n",
       "      <td>en</td>\n",
       "      <td>RT @WHOPhilippines: To our health care workers...</td>\n",
       "      <td>NaN</td>\n",
       "      <td>NaN</td>\n",
       "    </tr>\n",
       "    <tr>\n",
       "      <th>298</th>\n",
       "      <td>everyone</td>\n",
       "      <td>1008835429720715264</td>\n",
       "      <td>1448874310869741571</td>\n",
       "      <td>2021-10-15T04:52:09.000Z</td>\n",
       "      <td>{'retweet_count': 4, 'reply_count': 0, 'like_c...</td>\n",
       "      <td>en</td>\n",
       "      <td>RT @UN_Pasifika: As #TeamFiji prepares to #Ope...</td>\n",
       "      <td>NaN</td>\n",
       "      <td>NaN</td>\n",
       "    </tr>\n",
       "    <tr>\n",
       "      <th>299</th>\n",
       "      <td>everyone</td>\n",
       "      <td>1110823710</td>\n",
       "      <td>1448866712972038147</td>\n",
       "      <td>2021-10-15T04:21:57.000Z</td>\n",
       "      <td>{'retweet_count': 11, 'reply_count': 0, 'like_...</td>\n",
       "      <td>en</td>\n",
       "      <td>RT @WHOPhilippines: To our health care workers...</td>\n",
       "      <td>NaN</td>\n",
       "      <td>NaN</td>\n",
       "    </tr>\n",
       "  </tbody>\n",
       "</table>\n",
       "</div>"
      ],
      "text/plain": [
       "    reply_settings            author_id                   id  \\\n",
       "295       everyone            539577630  1448884278666743819   \n",
       "296       everyone   750947919273029632  1448883226903146501   \n",
       "297       everyone            226122086  1448880011117748243   \n",
       "298       everyone  1008835429720715264  1448874310869741571   \n",
       "299       everyone           1110823710  1448866712972038147   \n",
       "\n",
       "                   created_at  \\\n",
       "295  2021-10-15T05:31:45.000Z   \n",
       "296  2021-10-15T05:27:34.000Z   \n",
       "297  2021-10-15T05:14:48.000Z   \n",
       "298  2021-10-15T04:52:09.000Z   \n",
       "299  2021-10-15T04:21:57.000Z   \n",
       "\n",
       "                                        public_metrics lang  \\\n",
       "295  {'retweet_count': 4, 'reply_count': 0, 'like_c...   en   \n",
       "296  {'retweet_count': 165, 'reply_count': 0, 'like...   en   \n",
       "297  {'retweet_count': 11, 'reply_count': 0, 'like_...   en   \n",
       "298  {'retweet_count': 4, 'reply_count': 0, 'like_c...   en   \n",
       "299  {'retweet_count': 11, 'reply_count': 0, 'like_...   en   \n",
       "\n",
       "                                                  text name username  \n",
       "295  RT @UN_Pasifika: As #TeamFiji prepares to #Ope...  NaN      NaN  \n",
       "296  RT @Apollo24x7: Our humble attempt at thanking...  NaN      NaN  \n",
       "297  RT @WHOPhilippines: To our health care workers...  NaN      NaN  \n",
       "298  RT @UN_Pasifika: As #TeamFiji prepares to #Ope...  NaN      NaN  \n",
       "299  RT @WHOPhilippines: To our health care workers...  NaN      NaN  "
      ]
     },
     "execution_count": 191,
     "metadata": {},
     "output_type": "execute_result"
    }
   ],
   "source": [
    "final_health_df.tail()"
   ]
  },
  {
   "cell_type": "markdown",
   "id": "cd67da50",
   "metadata": {},
   "source": [
    "#### Assess the quality of the data collected:"
   ]
  },
  {
   "cell_type": "markdown",
   "id": "4c93019c",
   "metadata": {},
   "source": [
    "The quality of the data is definitely useful for determining the attitude towards healthcare and front line work during the pandemic because it allows insights directly into the thoughts and machinations of people that work in these fields through their outward expression in their tweets. "
   ]
  },
  {
   "cell_type": "markdown",
   "id": "34a88032",
   "metadata": {},
   "source": [
    "#### Weaknesses & Limitations of the data:"
   ]
  },
  {
   "cell_type": "markdown",
   "id": "e302049d",
   "metadata": {},
   "source": [
    "I'll mention a few weaknesses and limitations of the data. First, the data could be skewed or the person in the data could be lying in their tweet text which would limit the value of the data as a valid source of information. Second, the data could be biased because of political ideology or the server could have read a value incorrectly when the request was sent or when the tweet was originally posted. Third, the server did not send back all the names and usernames for each post so that's definitely a limitation for identifying the user that posted the tweet to determine further metrics about that user which might skew the analysis of the data. Fourth, the data is found by searching through recent hashtags, in which case the hashtag used could be totally irrelevant to the question I'm asking and therefore will skew the analysis towards outliers. Finally, the data doesn't take into account the whole of the pandemic as all of the tweets are from the last few days and the pandemic has definitely subsided slightly from how serious it was at the beginning."
   ]
  },
  {
   "cell_type": "markdown",
   "id": "64f0878b",
   "metadata": {},
   "source": [
    "#### Alternative approaches and potential next steps:"
   ]
  },
  {
   "cell_type": "markdown",
   "id": "6608036f",
   "metadata": {},
   "source": [
    "One alternative approach could have been to use different hashtags or more specific hashtags when forming the query URL. The query could have included multiple hashtags used in the same tweet as well as the singular hashtags in order to gain a myriad of more specified results. Another alternative approach for non-English speakers could be to look for tweets in another language such as Spanish and using Spanish hashtags related to the healthcare and frontline workers in Spanish speaking countries to give a more worldly view of the pandemic. A potential next step could be to find out how to answer my question by analyzing the DataFrame I created further. Another next step and alternative approach wrapped up in one could be to learn how to create a function that does the work of creating the original DataFrame, using the next_token for the second two DataFrames, and appending those DataFrames together to create my final DataFrame. I think the major next step that needs to be taken however is learning how to analyze the Twitter data and how to draw conclusions from the analysis of that data."
   ]
  }
 ],
 "metadata": {
  "kernelspec": {
   "display_name": "Python 3 (ipykernel)",
   "language": "python",
   "name": "python3"
  },
  "language_info": {
   "codemirror_mode": {
    "name": "ipython",
    "version": 3
   },
   "file_extension": ".py",
   "mimetype": "text/x-python",
   "name": "python",
   "nbconvert_exporter": "python",
   "pygments_lexer": "ipython3",
   "version": "3.9.6"
  }
 },
 "nbformat": 4,
 "nbformat_minor": 5
}
