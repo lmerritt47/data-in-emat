{
 "cells": [
  {
   "cell_type": "markdown",
   "id": "78caf796",
   "metadata": {},
   "source": [
    "# 'Likes' Report"
   ]
  },
  {
   "cell_type": "markdown",
   "id": "1b5854c8",
   "metadata": {},
   "source": [
    "### EMAT 22110 - Data in Emerging Media and Technology"
   ]
  },
  {
   "cell_type": "markdown",
   "id": "02b9a2fc",
   "metadata": {},
   "source": [
    "### Author: Liam Merritt"
   ]
  },
  {
   "cell_type": "markdown",
   "id": "566528b2",
   "metadata": {},
   "source": [
    "### Created: 09/15/2021"
   ]
  },
  {
   "cell_type": "markdown",
   "id": "176f0469",
   "metadata": {},
   "source": [
    "#### This step loads the packages necessary for the analysis."
   ]
  },
  {
   "cell_type": "code",
   "execution_count": 1,
   "id": "d3ab13ee",
   "metadata": {},
   "outputs": [],
   "source": [
    "import json\n",
    "import pandas as pd"
   ]
  },
  {
   "cell_type": "markdown",
   "id": "b364f616",
   "metadata": {},
   "source": [
    "#### 1) The second step is to call the file from my computer that holds my 'liked-posts' data from Instagram. Then call that data as a list."
   ]
  },
  {
   "cell_type": "code",
   "execution_count": 2,
   "id": "65493e43",
   "metadata": {},
   "outputs": [],
   "source": [
    "with open(\"/Users/liammerritt/Desktop/My Instagram Data/likes/liked_posts.json\") as p:\n",
    "    data1 = json.load(p)"
   ]
  },
  {
   "cell_type": "markdown",
   "id": "2059c719",
   "metadata": {},
   "source": [
    "#### The next step is to find the keys of the list."
   ]
  },
  {
   "cell_type": "code",
   "execution_count": 3,
   "id": "30f33157",
   "metadata": {},
   "outputs": [
    {
     "data": {
      "text/plain": [
       "dict_keys(['likes_media_likes'])"
      ]
     },
     "execution_count": 3,
     "metadata": {},
     "output_type": "execute_result"
    }
   ],
   "source": [
    "data1.keys()"
   ]
  },
  {
   "cell_type": "code",
   "execution_count": 4,
   "id": "1678b84d",
   "metadata": {},
   "outputs": [
    {
     "data": {
      "text/plain": [
       "list"
      ]
     },
     "execution_count": 4,
     "metadata": {},
     "output_type": "execute_result"
    }
   ],
   "source": [
    "type(data1['likes_media_likes'])"
   ]
  },
  {
   "cell_type": "markdown",
   "id": "251889a1",
   "metadata": {},
   "source": [
    "#### Now I can create a data frame out of the data."
   ]
  },
  {
   "cell_type": "code",
   "execution_count": 5,
   "id": "91ca0dde",
   "metadata": {},
   "outputs": [],
   "source": [
    "df_likes = pd.DataFrame(data1['likes_media_likes'])"
   ]
  },
  {
   "cell_type": "markdown",
   "id": "be7260af",
   "metadata": {},
   "source": [
    "#### 2) a) The key used is 'likes_media_likes'"
   ]
  },
  {
   "cell_type": "code",
   "execution_count": 7,
   "id": "d701a0ca",
   "metadata": {
    "scrolled": true
   },
   "outputs": [
    {
     "data": {
      "text/html": [
       "<div>\n",
       "<style scoped>\n",
       "    .dataframe tbody tr th:only-of-type {\n",
       "        vertical-align: middle;\n",
       "    }\n",
       "\n",
       "    .dataframe tbody tr th {\n",
       "        vertical-align: top;\n",
       "    }\n",
       "\n",
       "    .dataframe thead th {\n",
       "        text-align: right;\n",
       "    }\n",
       "</style>\n",
       "<table border=\"1\" class=\"dataframe\">\n",
       "  <thead>\n",
       "    <tr style=\"text-align: right;\">\n",
       "      <th></th>\n",
       "      <th>title</th>\n",
       "      <th>media_list_data</th>\n",
       "      <th>string_list_data</th>\n",
       "    </tr>\n",
       "  </thead>\n",
       "  <tbody>\n",
       "    <tr>\n",
       "      <th>0</th>\n",
       "      <td>stussy</td>\n",
       "      <td>[]</td>\n",
       "      <td>[{'href': 'https://www.instagram.com/p/XIb5Gxs...</td>\n",
       "    </tr>\n",
       "    <tr>\n",
       "      <th>1</th>\n",
       "      <td>nickydiamonds</td>\n",
       "      <td>[]</td>\n",
       "      <td>[{'href': 'https://www.instagram.com/p/XEI5zWg...</td>\n",
       "    </tr>\n",
       "    <tr>\n",
       "      <th>2</th>\n",
       "      <td>mirandalgordon</td>\n",
       "      <td>[]</td>\n",
       "      <td>[{'href': 'https://www.instagram.com/p/XC8WjZQ...</td>\n",
       "    </tr>\n",
       "    <tr>\n",
       "      <th>3</th>\n",
       "      <td>nickydiamonds</td>\n",
       "      <td>[]</td>\n",
       "      <td>[{'href': 'https://www.instagram.com/p/XBga1uA...</td>\n",
       "    </tr>\n",
       "    <tr>\n",
       "      <th>4</th>\n",
       "      <td>feliciathegoat</td>\n",
       "      <td>[]</td>\n",
       "      <td>[{'href': 'https://www.instagram.com/p/XCzlUEH...</td>\n",
       "    </tr>\n",
       "    <tr>\n",
       "      <th>5</th>\n",
       "      <td>nickydiamonds</td>\n",
       "      <td>[]</td>\n",
       "      <td>[{'href': 'https://www.instagram.com/p/W5PtHgg...</td>\n",
       "    </tr>\n",
       "    <tr>\n",
       "      <th>6</th>\n",
       "      <td>nickydiamonds</td>\n",
       "      <td>[]</td>\n",
       "      <td>[{'href': 'https://www.instagram.com/p/W0cIfHA...</td>\n",
       "    </tr>\n",
       "    <tr>\n",
       "      <th>7</th>\n",
       "      <td>nickydiamonds</td>\n",
       "      <td>[]</td>\n",
       "      <td>[{'href': 'https://www.instagram.com/p/W1KUcCA...</td>\n",
       "    </tr>\n",
       "    <tr>\n",
       "      <th>8</th>\n",
       "      <td>nickydiamonds</td>\n",
       "      <td>[]</td>\n",
       "      <td>[{'href': 'https://www.instagram.com/p/W2yoF9g...</td>\n",
       "    </tr>\n",
       "  </tbody>\n",
       "</table>\n",
       "</div>"
      ],
      "text/plain": [
       "            title media_list_data  \\\n",
       "0          stussy              []   \n",
       "1   nickydiamonds              []   \n",
       "2  mirandalgordon              []   \n",
       "3   nickydiamonds              []   \n",
       "4  feliciathegoat              []   \n",
       "5   nickydiamonds              []   \n",
       "6   nickydiamonds              []   \n",
       "7   nickydiamonds              []   \n",
       "8   nickydiamonds              []   \n",
       "\n",
       "                                    string_list_data  \n",
       "0  [{'href': 'https://www.instagram.com/p/XIb5Gxs...  \n",
       "1  [{'href': 'https://www.instagram.com/p/XEI5zWg...  \n",
       "2  [{'href': 'https://www.instagram.com/p/XC8WjZQ...  \n",
       "3  [{'href': 'https://www.instagram.com/p/XBga1uA...  \n",
       "4  [{'href': 'https://www.instagram.com/p/XCzlUEH...  \n",
       "5  [{'href': 'https://www.instagram.com/p/W5PtHgg...  \n",
       "6  [{'href': 'https://www.instagram.com/p/W0cIfHA...  \n",
       "7  [{'href': 'https://www.instagram.com/p/W1KUcCA...  \n",
       "8  [{'href': 'https://www.instagram.com/p/W2yoF9g...  "
      ]
     },
     "execution_count": 7,
     "metadata": {},
     "output_type": "execute_result"
    }
   ],
   "source": [
    "df_likes[0:9]"
   ]
  },
  {
   "cell_type": "code",
   "execution_count": 8,
   "id": "6724f834",
   "metadata": {},
   "outputs": [
    {
     "data": {
      "text/plain": [
       "dict_keys(['title', 'media_list_data', 'string_list_data'])"
      ]
     },
     "execution_count": 8,
     "metadata": {},
     "output_type": "execute_result"
    }
   ],
   "source": [
    "data1['likes_media_likes'][0].keys()"
   ]
  },
  {
   "cell_type": "code",
   "execution_count": 9,
   "id": "42ac2bea",
   "metadata": {},
   "outputs": [
    {
     "data": {
      "text/plain": [
       "dict_keys(['href', 'value', 'timestamp'])"
      ]
     },
     "execution_count": 9,
     "metadata": {},
     "output_type": "execute_result"
    }
   ],
   "source": [
    "data1['likes_media_likes'][0]['string_list_data'][0].keys()"
   ]
  },
  {
   "cell_type": "markdown",
   "id": "2431a512",
   "metadata": {},
   "source": [
    "#### 2) b) Next I'll use list comprehension and indexing to add the 'timestamp' and 'href' value for each column."
   ]
  },
  {
   "cell_type": "code",
   "execution_count": 10,
   "id": "47ef699b",
   "metadata": {},
   "outputs": [],
   "source": [
    "ts = [x[\"string_list_data\"][0] for x in data1[\"likes_media_likes\"]]"
   ]
  },
  {
   "cell_type": "code",
   "execution_count": 11,
   "id": "ca0a58ab",
   "metadata": {},
   "outputs": [],
   "source": [
    "df_likes_with_ts = pd.DataFrame(ts)"
   ]
  },
  {
   "cell_type": "code",
   "execution_count": 14,
   "id": "08bdc983",
   "metadata": {},
   "outputs": [
    {
     "data": {
      "text/plain": [
       "0    1363901150\n",
       "1    1363780507\n",
       "2    1363718908\n",
       "3    1363709406\n",
       "4    1363709175\n",
       "5    1363388838\n",
       "6    1363349246\n",
       "7    1363349090\n",
       "8    1363348647\n",
       "Name: timestamp, dtype: int64"
      ]
     },
     "execution_count": 14,
     "metadata": {},
     "output_type": "execute_result"
    }
   ],
   "source": [
    "df_likes_with_ts['timestamp'][0:9]"
   ]
  },
  {
   "cell_type": "code",
   "execution_count": 15,
   "id": "d6b8e894",
   "metadata": {},
   "outputs": [
    {
     "data": {
      "text/plain": [
       "0    https://www.instagram.com/p/XIb5GxsJiL/\n",
       "1    https://www.instagram.com/p/XEI5zWglm2/\n",
       "2    https://www.instagram.com/p/XC8WjZQs9w/\n",
       "3    https://www.instagram.com/p/XBga1uAlly/\n",
       "4    https://www.instagram.com/p/XCzlUEHAKJ/\n",
       "5    https://www.instagram.com/p/W5PtHggllK/\n",
       "6    https://www.instagram.com/p/W0cIfHAlg_/\n",
       "7    https://www.instagram.com/p/W1KUcCAlq5/\n",
       "8    https://www.instagram.com/p/W2yoF9gll4/\n",
       "Name: href, dtype: object"
      ]
     },
     "execution_count": 15,
     "metadata": {},
     "output_type": "execute_result"
    }
   ],
   "source": [
    "df_likes_with_ts['href'][0:9]"
   ]
  },
  {
   "cell_type": "code",
   "execution_count": 16,
   "id": "66f54eda",
   "metadata": {},
   "outputs": [],
   "source": [
    "df_likes['timestamp'] = df_likes_with_ts['timestamp']"
   ]
  },
  {
   "cell_type": "code",
   "execution_count": 17,
   "id": "656bac16",
   "metadata": {},
   "outputs": [
    {
     "data": {
      "text/html": [
       "<div>\n",
       "<style scoped>\n",
       "    .dataframe tbody tr th:only-of-type {\n",
       "        vertical-align: middle;\n",
       "    }\n",
       "\n",
       "    .dataframe tbody tr th {\n",
       "        vertical-align: top;\n",
       "    }\n",
       "\n",
       "    .dataframe thead th {\n",
       "        text-align: right;\n",
       "    }\n",
       "</style>\n",
       "<table border=\"1\" class=\"dataframe\">\n",
       "  <thead>\n",
       "    <tr style=\"text-align: right;\">\n",
       "      <th></th>\n",
       "      <th>title</th>\n",
       "      <th>media_list_data</th>\n",
       "      <th>string_list_data</th>\n",
       "      <th>timestamp</th>\n",
       "    </tr>\n",
       "  </thead>\n",
       "  <tbody>\n",
       "    <tr>\n",
       "      <th>0</th>\n",
       "      <td>stussy</td>\n",
       "      <td>[]</td>\n",
       "      <td>[{'href': 'https://www.instagram.com/p/XIb5Gxs...</td>\n",
       "      <td>1363901150</td>\n",
       "    </tr>\n",
       "    <tr>\n",
       "      <th>1</th>\n",
       "      <td>nickydiamonds</td>\n",
       "      <td>[]</td>\n",
       "      <td>[{'href': 'https://www.instagram.com/p/XEI5zWg...</td>\n",
       "      <td>1363780507</td>\n",
       "    </tr>\n",
       "    <tr>\n",
       "      <th>2</th>\n",
       "      <td>mirandalgordon</td>\n",
       "      <td>[]</td>\n",
       "      <td>[{'href': 'https://www.instagram.com/p/XC8WjZQ...</td>\n",
       "      <td>1363718908</td>\n",
       "    </tr>\n",
       "    <tr>\n",
       "      <th>3</th>\n",
       "      <td>nickydiamonds</td>\n",
       "      <td>[]</td>\n",
       "      <td>[{'href': 'https://www.instagram.com/p/XBga1uA...</td>\n",
       "      <td>1363709406</td>\n",
       "    </tr>\n",
       "    <tr>\n",
       "      <th>4</th>\n",
       "      <td>feliciathegoat</td>\n",
       "      <td>[]</td>\n",
       "      <td>[{'href': 'https://www.instagram.com/p/XCzlUEH...</td>\n",
       "      <td>1363709175</td>\n",
       "    </tr>\n",
       "    <tr>\n",
       "      <th>5</th>\n",
       "      <td>nickydiamonds</td>\n",
       "      <td>[]</td>\n",
       "      <td>[{'href': 'https://www.instagram.com/p/W5PtHgg...</td>\n",
       "      <td>1363388838</td>\n",
       "    </tr>\n",
       "    <tr>\n",
       "      <th>6</th>\n",
       "      <td>nickydiamonds</td>\n",
       "      <td>[]</td>\n",
       "      <td>[{'href': 'https://www.instagram.com/p/W0cIfHA...</td>\n",
       "      <td>1363349246</td>\n",
       "    </tr>\n",
       "    <tr>\n",
       "      <th>7</th>\n",
       "      <td>nickydiamonds</td>\n",
       "      <td>[]</td>\n",
       "      <td>[{'href': 'https://www.instagram.com/p/W1KUcCA...</td>\n",
       "      <td>1363349090</td>\n",
       "    </tr>\n",
       "    <tr>\n",
       "      <th>8</th>\n",
       "      <td>nickydiamonds</td>\n",
       "      <td>[]</td>\n",
       "      <td>[{'href': 'https://www.instagram.com/p/W2yoF9g...</td>\n",
       "      <td>1363348647</td>\n",
       "    </tr>\n",
       "  </tbody>\n",
       "</table>\n",
       "</div>"
      ],
      "text/plain": [
       "            title media_list_data  \\\n",
       "0          stussy              []   \n",
       "1   nickydiamonds              []   \n",
       "2  mirandalgordon              []   \n",
       "3   nickydiamonds              []   \n",
       "4  feliciathegoat              []   \n",
       "5   nickydiamonds              []   \n",
       "6   nickydiamonds              []   \n",
       "7   nickydiamonds              []   \n",
       "8   nickydiamonds              []   \n",
       "\n",
       "                                    string_list_data   timestamp  \n",
       "0  [{'href': 'https://www.instagram.com/p/XIb5Gxs...  1363901150  \n",
       "1  [{'href': 'https://www.instagram.com/p/XEI5zWg...  1363780507  \n",
       "2  [{'href': 'https://www.instagram.com/p/XC8WjZQ...  1363718908  \n",
       "3  [{'href': 'https://www.instagram.com/p/XBga1uA...  1363709406  \n",
       "4  [{'href': 'https://www.instagram.com/p/XCzlUEH...  1363709175  \n",
       "5  [{'href': 'https://www.instagram.com/p/W5PtHgg...  1363388838  \n",
       "6  [{'href': 'https://www.instagram.com/p/W0cIfHA...  1363349246  \n",
       "7  [{'href': 'https://www.instagram.com/p/W1KUcCA...  1363349090  \n",
       "8  [{'href': 'https://www.instagram.com/p/W2yoF9g...  1363348647  "
      ]
     },
     "execution_count": 17,
     "metadata": {},
     "output_type": "execute_result"
    }
   ],
   "source": [
    "df_likes[0:9]"
   ]
  },
  {
   "cell_type": "markdown",
   "id": "eb88c43f",
   "metadata": {},
   "source": [
    "#### This part is cleaning up the table to look more elegant and is a better representation of the data."
   ]
  },
  {
   "cell_type": "markdown",
   "id": "0cb04e7d",
   "metadata": {},
   "source": [
    "[This link is where I found the .drop method](https://www.shanelynn.ie/using-pandas-dataframe-creating-editing-viewing-data-in-python/)"
   ]
  },
  {
   "cell_type": "code",
   "execution_count": 18,
   "id": "8c75833a",
   "metadata": {},
   "outputs": [],
   "source": [
    "df_likes = df_likes.drop(columns='media_list_data')"
   ]
  },
  {
   "cell_type": "code",
   "execution_count": 19,
   "id": "5abcc2f8",
   "metadata": {},
   "outputs": [
    {
     "data": {
      "text/html": [
       "<div>\n",
       "<style scoped>\n",
       "    .dataframe tbody tr th:only-of-type {\n",
       "        vertical-align: middle;\n",
       "    }\n",
       "\n",
       "    .dataframe tbody tr th {\n",
       "        vertical-align: top;\n",
       "    }\n",
       "\n",
       "    .dataframe thead th {\n",
       "        text-align: right;\n",
       "    }\n",
       "</style>\n",
       "<table border=\"1\" class=\"dataframe\">\n",
       "  <thead>\n",
       "    <tr style=\"text-align: right;\">\n",
       "      <th></th>\n",
       "      <th>title</th>\n",
       "      <th>string_list_data</th>\n",
       "      <th>timestamp</th>\n",
       "    </tr>\n",
       "  </thead>\n",
       "  <tbody>\n",
       "    <tr>\n",
       "      <th>0</th>\n",
       "      <td>stussy</td>\n",
       "      <td>[{'href': 'https://www.instagram.com/p/XIb5Gxs...</td>\n",
       "      <td>1363901150</td>\n",
       "    </tr>\n",
       "    <tr>\n",
       "      <th>1</th>\n",
       "      <td>nickydiamonds</td>\n",
       "      <td>[{'href': 'https://www.instagram.com/p/XEI5zWg...</td>\n",
       "      <td>1363780507</td>\n",
       "    </tr>\n",
       "    <tr>\n",
       "      <th>2</th>\n",
       "      <td>mirandalgordon</td>\n",
       "      <td>[{'href': 'https://www.instagram.com/p/XC8WjZQ...</td>\n",
       "      <td>1363718908</td>\n",
       "    </tr>\n",
       "    <tr>\n",
       "      <th>3</th>\n",
       "      <td>nickydiamonds</td>\n",
       "      <td>[{'href': 'https://www.instagram.com/p/XBga1uA...</td>\n",
       "      <td>1363709406</td>\n",
       "    </tr>\n",
       "    <tr>\n",
       "      <th>4</th>\n",
       "      <td>feliciathegoat</td>\n",
       "      <td>[{'href': 'https://www.instagram.com/p/XCzlUEH...</td>\n",
       "      <td>1363709175</td>\n",
       "    </tr>\n",
       "    <tr>\n",
       "      <th>5</th>\n",
       "      <td>nickydiamonds</td>\n",
       "      <td>[{'href': 'https://www.instagram.com/p/W5PtHgg...</td>\n",
       "      <td>1363388838</td>\n",
       "    </tr>\n",
       "    <tr>\n",
       "      <th>6</th>\n",
       "      <td>nickydiamonds</td>\n",
       "      <td>[{'href': 'https://www.instagram.com/p/W0cIfHA...</td>\n",
       "      <td>1363349246</td>\n",
       "    </tr>\n",
       "    <tr>\n",
       "      <th>7</th>\n",
       "      <td>nickydiamonds</td>\n",
       "      <td>[{'href': 'https://www.instagram.com/p/W1KUcCA...</td>\n",
       "      <td>1363349090</td>\n",
       "    </tr>\n",
       "    <tr>\n",
       "      <th>8</th>\n",
       "      <td>nickydiamonds</td>\n",
       "      <td>[{'href': 'https://www.instagram.com/p/W2yoF9g...</td>\n",
       "      <td>1363348647</td>\n",
       "    </tr>\n",
       "  </tbody>\n",
       "</table>\n",
       "</div>"
      ],
      "text/plain": [
       "            title                                   string_list_data  \\\n",
       "0          stussy  [{'href': 'https://www.instagram.com/p/XIb5Gxs...   \n",
       "1   nickydiamonds  [{'href': 'https://www.instagram.com/p/XEI5zWg...   \n",
       "2  mirandalgordon  [{'href': 'https://www.instagram.com/p/XC8WjZQ...   \n",
       "3   nickydiamonds  [{'href': 'https://www.instagram.com/p/XBga1uA...   \n",
       "4  feliciathegoat  [{'href': 'https://www.instagram.com/p/XCzlUEH...   \n",
       "5   nickydiamonds  [{'href': 'https://www.instagram.com/p/W5PtHgg...   \n",
       "6   nickydiamonds  [{'href': 'https://www.instagram.com/p/W0cIfHA...   \n",
       "7   nickydiamonds  [{'href': 'https://www.instagram.com/p/W1KUcCA...   \n",
       "8   nickydiamonds  [{'href': 'https://www.instagram.com/p/W2yoF9g...   \n",
       "\n",
       "    timestamp  \n",
       "0  1363901150  \n",
       "1  1363780507  \n",
       "2  1363718908  \n",
       "3  1363709406  \n",
       "4  1363709175  \n",
       "5  1363388838  \n",
       "6  1363349246  \n",
       "7  1363349090  \n",
       "8  1363348647  "
      ]
     },
     "execution_count": 19,
     "metadata": {},
     "output_type": "execute_result"
    }
   ],
   "source": [
    "df_likes[0:9]"
   ]
  },
  {
   "cell_type": "code",
   "execution_count": 20,
   "id": "2597da37",
   "metadata": {},
   "outputs": [],
   "source": [
    "df_likes['href'] = df_likes_with_ts['href'] "
   ]
  },
  {
   "cell_type": "code",
   "execution_count": 21,
   "id": "6dae823f",
   "metadata": {},
   "outputs": [
    {
     "data": {
      "text/html": [
       "<div>\n",
       "<style scoped>\n",
       "    .dataframe tbody tr th:only-of-type {\n",
       "        vertical-align: middle;\n",
       "    }\n",
       "\n",
       "    .dataframe tbody tr th {\n",
       "        vertical-align: top;\n",
       "    }\n",
       "\n",
       "    .dataframe thead th {\n",
       "        text-align: right;\n",
       "    }\n",
       "</style>\n",
       "<table border=\"1\" class=\"dataframe\">\n",
       "  <thead>\n",
       "    <tr style=\"text-align: right;\">\n",
       "      <th></th>\n",
       "      <th>title</th>\n",
       "      <th>string_list_data</th>\n",
       "      <th>timestamp</th>\n",
       "      <th>href</th>\n",
       "    </tr>\n",
       "  </thead>\n",
       "  <tbody>\n",
       "    <tr>\n",
       "      <th>0</th>\n",
       "      <td>stussy</td>\n",
       "      <td>[{'href': 'https://www.instagram.com/p/XIb5Gxs...</td>\n",
       "      <td>1363901150</td>\n",
       "      <td>https://www.instagram.com/p/XIb5GxsJiL/</td>\n",
       "    </tr>\n",
       "    <tr>\n",
       "      <th>1</th>\n",
       "      <td>nickydiamonds</td>\n",
       "      <td>[{'href': 'https://www.instagram.com/p/XEI5zWg...</td>\n",
       "      <td>1363780507</td>\n",
       "      <td>https://www.instagram.com/p/XEI5zWglm2/</td>\n",
       "    </tr>\n",
       "    <tr>\n",
       "      <th>2</th>\n",
       "      <td>mirandalgordon</td>\n",
       "      <td>[{'href': 'https://www.instagram.com/p/XC8WjZQ...</td>\n",
       "      <td>1363718908</td>\n",
       "      <td>https://www.instagram.com/p/XC8WjZQs9w/</td>\n",
       "    </tr>\n",
       "    <tr>\n",
       "      <th>3</th>\n",
       "      <td>nickydiamonds</td>\n",
       "      <td>[{'href': 'https://www.instagram.com/p/XBga1uA...</td>\n",
       "      <td>1363709406</td>\n",
       "      <td>https://www.instagram.com/p/XBga1uAlly/</td>\n",
       "    </tr>\n",
       "    <tr>\n",
       "      <th>4</th>\n",
       "      <td>feliciathegoat</td>\n",
       "      <td>[{'href': 'https://www.instagram.com/p/XCzlUEH...</td>\n",
       "      <td>1363709175</td>\n",
       "      <td>https://www.instagram.com/p/XCzlUEHAKJ/</td>\n",
       "    </tr>\n",
       "    <tr>\n",
       "      <th>5</th>\n",
       "      <td>nickydiamonds</td>\n",
       "      <td>[{'href': 'https://www.instagram.com/p/W5PtHgg...</td>\n",
       "      <td>1363388838</td>\n",
       "      <td>https://www.instagram.com/p/W5PtHggllK/</td>\n",
       "    </tr>\n",
       "    <tr>\n",
       "      <th>6</th>\n",
       "      <td>nickydiamonds</td>\n",
       "      <td>[{'href': 'https://www.instagram.com/p/W0cIfHA...</td>\n",
       "      <td>1363349246</td>\n",
       "      <td>https://www.instagram.com/p/W0cIfHAlg_/</td>\n",
       "    </tr>\n",
       "    <tr>\n",
       "      <th>7</th>\n",
       "      <td>nickydiamonds</td>\n",
       "      <td>[{'href': 'https://www.instagram.com/p/W1KUcCA...</td>\n",
       "      <td>1363349090</td>\n",
       "      <td>https://www.instagram.com/p/W1KUcCAlq5/</td>\n",
       "    </tr>\n",
       "    <tr>\n",
       "      <th>8</th>\n",
       "      <td>nickydiamonds</td>\n",
       "      <td>[{'href': 'https://www.instagram.com/p/W2yoF9g...</td>\n",
       "      <td>1363348647</td>\n",
       "      <td>https://www.instagram.com/p/W2yoF9gll4/</td>\n",
       "    </tr>\n",
       "  </tbody>\n",
       "</table>\n",
       "</div>"
      ],
      "text/plain": [
       "            title                                   string_list_data  \\\n",
       "0          stussy  [{'href': 'https://www.instagram.com/p/XIb5Gxs...   \n",
       "1   nickydiamonds  [{'href': 'https://www.instagram.com/p/XEI5zWg...   \n",
       "2  mirandalgordon  [{'href': 'https://www.instagram.com/p/XC8WjZQ...   \n",
       "3   nickydiamonds  [{'href': 'https://www.instagram.com/p/XBga1uA...   \n",
       "4  feliciathegoat  [{'href': 'https://www.instagram.com/p/XCzlUEH...   \n",
       "5   nickydiamonds  [{'href': 'https://www.instagram.com/p/W5PtHgg...   \n",
       "6   nickydiamonds  [{'href': 'https://www.instagram.com/p/W0cIfHA...   \n",
       "7   nickydiamonds  [{'href': 'https://www.instagram.com/p/W1KUcCA...   \n",
       "8   nickydiamonds  [{'href': 'https://www.instagram.com/p/W2yoF9g...   \n",
       "\n",
       "    timestamp                                     href  \n",
       "0  1363901150  https://www.instagram.com/p/XIb5GxsJiL/  \n",
       "1  1363780507  https://www.instagram.com/p/XEI5zWglm2/  \n",
       "2  1363718908  https://www.instagram.com/p/XC8WjZQs9w/  \n",
       "3  1363709406  https://www.instagram.com/p/XBga1uAlly/  \n",
       "4  1363709175  https://www.instagram.com/p/XCzlUEHAKJ/  \n",
       "5  1363388838  https://www.instagram.com/p/W5PtHggllK/  \n",
       "6  1363349246  https://www.instagram.com/p/W0cIfHAlg_/  \n",
       "7  1363349090  https://www.instagram.com/p/W1KUcCAlq5/  \n",
       "8  1363348647  https://www.instagram.com/p/W2yoF9gll4/  "
      ]
     },
     "execution_count": 21,
     "metadata": {},
     "output_type": "execute_result"
    }
   ],
   "source": [
    "df_likes[0:9]"
   ]
  },
  {
   "cell_type": "code",
   "execution_count": 22,
   "id": "ffbad493",
   "metadata": {},
   "outputs": [],
   "source": [
    "df_likes = df_likes.drop(columns='string_list_data')"
   ]
  },
  {
   "cell_type": "markdown",
   "id": "c215fc12",
   "metadata": {},
   "source": [
    "#### Here's a much more ideal dataframe for looking at the pertinent data for this 'likes' report. \n",
    "#### Shortened for nbviewer optimization."
   ]
  },
  {
   "cell_type": "code",
   "execution_count": 23,
   "id": "cf703034",
   "metadata": {},
   "outputs": [
    {
     "data": {
      "text/html": [
       "<div>\n",
       "<style scoped>\n",
       "    .dataframe tbody tr th:only-of-type {\n",
       "        vertical-align: middle;\n",
       "    }\n",
       "\n",
       "    .dataframe tbody tr th {\n",
       "        vertical-align: top;\n",
       "    }\n",
       "\n",
       "    .dataframe thead th {\n",
       "        text-align: right;\n",
       "    }\n",
       "</style>\n",
       "<table border=\"1\" class=\"dataframe\">\n",
       "  <thead>\n",
       "    <tr style=\"text-align: right;\">\n",
       "      <th></th>\n",
       "      <th>title</th>\n",
       "      <th>timestamp</th>\n",
       "      <th>href</th>\n",
       "    </tr>\n",
       "  </thead>\n",
       "  <tbody>\n",
       "    <tr>\n",
       "      <th>0</th>\n",
       "      <td>stussy</td>\n",
       "      <td>1363901150</td>\n",
       "      <td>https://www.instagram.com/p/XIb5GxsJiL/</td>\n",
       "    </tr>\n",
       "    <tr>\n",
       "      <th>1</th>\n",
       "      <td>nickydiamonds</td>\n",
       "      <td>1363780507</td>\n",
       "      <td>https://www.instagram.com/p/XEI5zWglm2/</td>\n",
       "    </tr>\n",
       "    <tr>\n",
       "      <th>2</th>\n",
       "      <td>mirandalgordon</td>\n",
       "      <td>1363718908</td>\n",
       "      <td>https://www.instagram.com/p/XC8WjZQs9w/</td>\n",
       "    </tr>\n",
       "    <tr>\n",
       "      <th>3</th>\n",
       "      <td>nickydiamonds</td>\n",
       "      <td>1363709406</td>\n",
       "      <td>https://www.instagram.com/p/XBga1uAlly/</td>\n",
       "    </tr>\n",
       "    <tr>\n",
       "      <th>4</th>\n",
       "      <td>feliciathegoat</td>\n",
       "      <td>1363709175</td>\n",
       "      <td>https://www.instagram.com/p/XCzlUEHAKJ/</td>\n",
       "    </tr>\n",
       "    <tr>\n",
       "      <th>5</th>\n",
       "      <td>nickydiamonds</td>\n",
       "      <td>1363388838</td>\n",
       "      <td>https://www.instagram.com/p/W5PtHggllK/</td>\n",
       "    </tr>\n",
       "    <tr>\n",
       "      <th>6</th>\n",
       "      <td>nickydiamonds</td>\n",
       "      <td>1363349246</td>\n",
       "      <td>https://www.instagram.com/p/W0cIfHAlg_/</td>\n",
       "    </tr>\n",
       "    <tr>\n",
       "      <th>7</th>\n",
       "      <td>nickydiamonds</td>\n",
       "      <td>1363349090</td>\n",
       "      <td>https://www.instagram.com/p/W1KUcCAlq5/</td>\n",
       "    </tr>\n",
       "    <tr>\n",
       "      <th>8</th>\n",
       "      <td>nickydiamonds</td>\n",
       "      <td>1363348647</td>\n",
       "      <td>https://www.instagram.com/p/W2yoF9gll4/</td>\n",
       "    </tr>\n",
       "  </tbody>\n",
       "</table>\n",
       "</div>"
      ],
      "text/plain": [
       "            title   timestamp                                     href\n",
       "0          stussy  1363901150  https://www.instagram.com/p/XIb5GxsJiL/\n",
       "1   nickydiamonds  1363780507  https://www.instagram.com/p/XEI5zWglm2/\n",
       "2  mirandalgordon  1363718908  https://www.instagram.com/p/XC8WjZQs9w/\n",
       "3   nickydiamonds  1363709406  https://www.instagram.com/p/XBga1uAlly/\n",
       "4  feliciathegoat  1363709175  https://www.instagram.com/p/XCzlUEHAKJ/\n",
       "5   nickydiamonds  1363388838  https://www.instagram.com/p/W5PtHggllK/\n",
       "6   nickydiamonds  1363349246  https://www.instagram.com/p/W0cIfHAlg_/\n",
       "7   nickydiamonds  1363349090  https://www.instagram.com/p/W1KUcCAlq5/\n",
       "8   nickydiamonds  1363348647  https://www.instagram.com/p/W2yoF9gll4/"
      ]
     },
     "execution_count": 23,
     "metadata": {},
     "output_type": "execute_result"
    }
   ],
   "source": [
    "df_likes[0:9]"
   ]
  },
  {
   "cell_type": "markdown",
   "id": "f0720a34",
   "metadata": {},
   "source": [
    "#### 3) a) Who collected this data? "
   ]
  },
  {
   "cell_type": "markdown",
   "id": "c0fe8787",
   "metadata": {},
   "source": [
    "Instagram, which is a subsidiary of Facebook, collected this data on behalf of advertisers and for their own servers to have a robust data file on all of their users that can be called upon for whatever purpose Instagram needs it for."
   ]
  },
  {
   "cell_type": "markdown",
   "id": "c12fc3ad",
   "metadata": {},
   "source": [
    "#### b) Why was this data collected? (other than to complete this assignment)"
   ]
  },
  {
   "cell_type": "markdown",
   "id": "94c7c083",
   "metadata": {},
   "source": [
    "The data was collected by Instagram so that they can analyze my habits by using algorithms based on which posts I like to determine which products are best to advertise to me. The data was also collected in order to find which accounts to suggest that I follow as well as to optimize the performance of Instagram for the collective user base."
   ]
  },
  {
   "cell_type": "markdown",
   "id": "4a691c5c",
   "metadata": {},
   "source": [
    "#### c) In what ways may this data be reliable?"
   ]
  },
  {
   "cell_type": "markdown",
   "id": "15f349f4",
   "metadata": {},
   "source": [
    "The data is reliable in the fact that it utilizes posts that I've liked in order to advertise products and new accounts to follow for me. It takes the time that I'd use to search up new accounts or products and optimizes my time by showing me the products or accounts that I may like. If they succeed in getting me to buy a product then the data would be considered very reliable by the advertiser because it helps their bottom line. If they succeed in getting me to follow another account then they can receive more data from me by my likes and interactions with that account."
   ]
  },
  {
   "cell_type": "markdown",
   "id": "3d20cd5b",
   "metadata": {},
   "source": [
    "#### d) In what ways may this data be unreliable?"
   ]
  },
  {
   "cell_type": "markdown",
   "id": "9a14df9f",
   "metadata": {},
   "source": [
    "This data is unreliable in my opinion because it's not a very accurate representation of what products that I might buy or accounts I may want to follow in the current era. It doesn't really take into account the changes over time in the accounts that I've followed or unfollowed. However, Instagram is also collecting the current data on many other interactions as well as the accounts I've followed and unfollowed. The data in this file alone is unreliable, but the data that Instagram is collecting as a whole is almost completely reliable because the company does track every interaction and click that is made on Instagram as a whole."
   ]
  },
  {
   "cell_type": "markdown",
   "id": "a2565157",
   "metadata": {},
   "source": [
    "#### 4) Summarize the number of likes by account using the groupby() and count() DataFrame methods.\n",
    "#### I've sorted my likes here by the top 30 so that it doesn't stretch too far on nbviewer."
   ]
  },
  {
   "cell_type": "code",
   "execution_count": 24,
   "id": "0e42b115",
   "metadata": {},
   "outputs": [],
   "source": [
    "num_likes_per_acc = df_likes.groupby('title').count()\n"
   ]
  },
  {
   "cell_type": "code",
   "execution_count": 28,
   "id": "c661ad89",
   "metadata": {},
   "outputs": [],
   "source": [
    "sorted_likes_per_acc = num_likes_per_acc.sort_values('timestamp', ascending = False)"
   ]
  },
  {
   "cell_type": "code",
   "execution_count": 31,
   "id": "85864d25",
   "metadata": {},
   "outputs": [
    {
     "data": {
      "text/html": [
       "<div>\n",
       "<style scoped>\n",
       "    .dataframe tbody tr th:only-of-type {\n",
       "        vertical-align: middle;\n",
       "    }\n",
       "\n",
       "    .dataframe tbody tr th {\n",
       "        vertical-align: top;\n",
       "    }\n",
       "\n",
       "    .dataframe thead th {\n",
       "        text-align: right;\n",
       "    }\n",
       "</style>\n",
       "<table border=\"1\" class=\"dataframe\">\n",
       "  <thead>\n",
       "    <tr style=\"text-align: right;\">\n",
       "      <th></th>\n",
       "      <th>timestamp</th>\n",
       "      <th>href</th>\n",
       "    </tr>\n",
       "    <tr>\n",
       "      <th>title</th>\n",
       "      <th></th>\n",
       "      <th></th>\n",
       "    </tr>\n",
       "  </thead>\n",
       "  <tbody>\n",
       "    <tr>\n",
       "      <th>nickydiamonds</th>\n",
       "      <td>173</td>\n",
       "      <td>173</td>\n",
       "    </tr>\n",
       "    <tr>\n",
       "      <th>badboywiwi_</th>\n",
       "      <td>125</td>\n",
       "      <td>125</td>\n",
       "    </tr>\n",
       "    <tr>\n",
       "      <th>spitta_andretti</th>\n",
       "      <td>116</td>\n",
       "      <td>116</td>\n",
       "    </tr>\n",
       "    <tr>\n",
       "      <th>ourlonelyplanet</th>\n",
       "      <td>115</td>\n",
       "      <td>115</td>\n",
       "    </tr>\n",
       "    <tr>\n",
       "      <th>shanvazquez</th>\n",
       "      <td>111</td>\n",
       "      <td>111</td>\n",
       "    </tr>\n",
       "    <tr>\n",
       "      <th>8rookie</th>\n",
       "      <td>97</td>\n",
       "      <td>97</td>\n",
       "    </tr>\n",
       "    <tr>\n",
       "      <th>regeliza</th>\n",
       "      <td>83</td>\n",
       "      <td>83</td>\n",
       "    </tr>\n",
       "    <tr>\n",
       "      <th>brookie__babie</th>\n",
       "      <td>76</td>\n",
       "      <td>76</td>\n",
       "    </tr>\n",
       "    <tr>\n",
       "      <th>stussy</th>\n",
       "      <td>72</td>\n",
       "      <td>72</td>\n",
       "    </tr>\n",
       "    <tr>\n",
       "      <th>morganmosss</th>\n",
       "      <td>69</td>\n",
       "      <td>69</td>\n",
       "    </tr>\n",
       "    <tr>\n",
       "      <th>jasperr</th>\n",
       "      <td>65</td>\n",
       "      <td>65</td>\n",
       "    </tr>\n",
       "    <tr>\n",
       "      <th>newschoolers</th>\n",
       "      <td>62</td>\n",
       "      <td>62</td>\n",
       "    </tr>\n",
       "    <tr>\n",
       "      <th>forgiato</th>\n",
       "      <td>61</td>\n",
       "      <td>61</td>\n",
       "    </tr>\n",
       "    <tr>\n",
       "      <th>emilysonjaa</th>\n",
       "      <td>56</td>\n",
       "      <td>56</td>\n",
       "    </tr>\n",
       "    <tr>\n",
       "      <th>bambambaklava</th>\n",
       "      <td>55</td>\n",
       "      <td>55</td>\n",
       "    </tr>\n",
       "    <tr>\n",
       "      <th>thrashermag</th>\n",
       "      <td>47</td>\n",
       "      <td>47</td>\n",
       "    </tr>\n",
       "    <tr>\n",
       "      <th>nathanielthomasgill</th>\n",
       "      <td>45</td>\n",
       "      <td>45</td>\n",
       "    </tr>\n",
       "    <tr>\n",
       "      <th>blakeanderson</th>\n",
       "      <td>41</td>\n",
       "      <td>41</td>\n",
       "    </tr>\n",
       "    <tr>\n",
       "      <th>shynabritelikeadiamond</th>\n",
       "      <td>41</td>\n",
       "      <td>41</td>\n",
       "    </tr>\n",
       "    <tr>\n",
       "      <th>tylerbasso</th>\n",
       "      <td>38</td>\n",
       "      <td>38</td>\n",
       "    </tr>\n",
       "    <tr>\n",
       "      <th>branbycz</th>\n",
       "      <td>35</td>\n",
       "      <td>35</td>\n",
       "    </tr>\n",
       "    <tr>\n",
       "      <th>mirandalgordon</th>\n",
       "      <td>34</td>\n",
       "      <td>34</td>\n",
       "    </tr>\n",
       "    <tr>\n",
       "      <th>olivia_goskowsky</th>\n",
       "      <td>33</td>\n",
       "      <td>33</td>\n",
       "    </tr>\n",
       "    <tr>\n",
       "      <th>philipm814</th>\n",
       "      <td>32</td>\n",
       "      <td>32</td>\n",
       "    </tr>\n",
       "    <tr>\n",
       "      <th>soapmanwun</th>\n",
       "      <td>30</td>\n",
       "      <td>30</td>\n",
       "    </tr>\n",
       "    <tr>\n",
       "      <th>feliciathegoat</th>\n",
       "      <td>27</td>\n",
       "      <td>27</td>\n",
       "    </tr>\n",
       "    <tr>\n",
       "      <th>ijamcrazy</th>\n",
       "      <td>24</td>\n",
       "      <td>24</td>\n",
       "    </tr>\n",
       "    <tr>\n",
       "      <th>tameimpala</th>\n",
       "      <td>24</td>\n",
       "      <td>24</td>\n",
       "    </tr>\n",
       "    <tr>\n",
       "      <th>yowhoseberg</th>\n",
       "      <td>24</td>\n",
       "      <td>24</td>\n",
       "    </tr>\n",
       "    <tr>\n",
       "      <th>domogenesis</th>\n",
       "      <td>23</td>\n",
       "      <td>23</td>\n",
       "    </tr>\n",
       "  </tbody>\n",
       "</table>\n",
       "</div>"
      ],
      "text/plain": [
       "                        timestamp  href\n",
       "title                                  \n",
       "nickydiamonds                 173   173\n",
       "badboywiwi_                   125   125\n",
       "spitta_andretti               116   116\n",
       "ourlonelyplanet               115   115\n",
       "shanvazquez                   111   111\n",
       "8rookie                        97    97\n",
       "regeliza                       83    83\n",
       "brookie__babie                 76    76\n",
       "stussy                         72    72\n",
       "morganmosss                    69    69\n",
       "jasperr                        65    65\n",
       "newschoolers                   62    62\n",
       "forgiato                       61    61\n",
       "emilysonjaa                    56    56\n",
       "bambambaklava                  55    55\n",
       "thrashermag                    47    47\n",
       "nathanielthomasgill            45    45\n",
       "blakeanderson                  41    41\n",
       "shynabritelikeadiamond         41    41\n",
       "tylerbasso                     38    38\n",
       "branbycz                       35    35\n",
       "mirandalgordon                 34    34\n",
       "olivia_goskowsky               33    33\n",
       "philipm814                     32    32\n",
       "soapmanwun                     30    30\n",
       "feliciathegoat                 27    27\n",
       "ijamcrazy                      24    24\n",
       "tameimpala                     24    24\n",
       "yowhoseberg                    24    24\n",
       "domogenesis                    23    23"
      ]
     },
     "execution_count": 31,
     "metadata": {},
     "output_type": "execute_result"
    }
   ],
   "source": [
    "sorted_likes_per_acc[0:30]"
   ]
  },
  {
   "cell_type": "markdown",
   "id": "67f83c9d",
   "metadata": {},
   "source": [
    "#### 5) After viewing the other data files provided by Instagram, state a hypothesis and a data file that may help answer the hypothesis."
   ]
  },
  {
   "cell_type": "markdown",
   "id": "8e5df970",
   "metadata": {},
   "source": [
    "#### Hypothesis:\n",
    "The data that Instagram collects creates actionable intelligence that can be utilized to help them make decisions about which suggestions to make for individual users and which ads to show individual users. \n",
    "\n",
    "The file ads_interest.json exemplifies the data necessary to back this hypothesis."
   ]
  },
  {
   "cell_type": "markdown",
   "id": "68e68a98",
   "metadata": {},
   "source": [
    "#### 5) a) Explain the theoretical hypothesis and the statistical hypothesis."
   ]
  },
  {
   "cell_type": "markdown",
   "id": "08156cfd",
   "metadata": {},
   "source": [
    "#### Theoretical Hypothesis:\n",
    "The data that Instagram collects informs the algorithm about actionable intelligence that can be used to sell products and make suggestions to individual users. In my case, the utilization of this of this data could be especially fortuitous when the ads_interest.json file is utilized. I want to understand how Instagram uses the ads_interest file and how the file helps the algorithm to determine the ads_interest file that is generated along with all other user data. What does Instagram use for their metrics when determining the ads_interest.json file?"
   ]
  },
  {
   "cell_type": "markdown",
   "id": "d7ae9cf1",
   "metadata": {},
   "source": [
    "#### Statistical Hypothesis:\n",
    "The Instagram metrics used are correct in displaying within the 85th percentile when predicting which ad interests to portray to the end user, in this case me. This statistic was reached by looking at the ads_interest file and determining about 15% of the ads were of no interest to me, however, many of the advertisements came from a direct analysis of my likes and searches. Does the algorithm operate with some margin of error?"
   ]
  },
  {
   "cell_type": "markdown",
   "id": "f77c876e",
   "metadata": {},
   "source": [
    "#### 5) b) Instead of a data file provided by Instagram, what would be the ideal data to use to test your hypothesis?"
   ]
  },
  {
   "cell_type": "markdown",
   "id": "a5869456",
   "metadata": {},
   "source": [
    "There's a data file that Facebook generates for all users called your_off_facebook_activity.json. This file is a treasure trove of information for which sites an end user visits and how many times as well as timestamps for each visit. This file could be an ideal dataset to use to test my hypothesis because it can determine which ads are best to show me by counting the amount of times I visit certain shopping websites or make certain google searches pertaining to product interests."
   ]
  },
  {
   "cell_type": "markdown",
   "id": "327a412d",
   "metadata": {},
   "source": [
    "### Reporting:"
   ]
  },
  {
   "cell_type": "markdown",
   "id": "62d6bf6c",
   "metadata": {},
   "source": [
    "### Liam Merritt - 9/21/2021 - Post Report for 'likes' Analysis"
   ]
  },
  {
   "cell_type": "markdown",
   "id": "01b112ca",
   "metadata": {},
   "source": [
    "#### 6) See the above comments for each step 1-5 giving intricate explanations of each step as they were completed. \n",
    "(I wasn't sure what you wanted from this question as I put detailed processes surrounding each of the 1st through 5th tasks in the above 'likes' report.)"
   ]
  },
  {
   "cell_type": "markdown",
   "id": "3d2183fb",
   "metadata": {},
   "source": [
    "#### 7) Describe the source and structure of the data used.\n",
    "The source of the data was all of my clicks on Instagram over the years and the structure of the data was a file compiled into JSON by algorithms also known as code that logs every interaction I make with the software and stores it in the aforementioned JSON files. "
   ]
  },
  {
   "cell_type": "markdown",
   "id": "6120ccd1",
   "metadata": {},
   "source": [
    "#### 8) Document the wrangling and analysis of the data:\n",
    "The wrangling of data began with me inserting the data file **liked_posts.json** from my Instagram data files. The next step in the process involved me taking the JSON code and making it into a dictionary called **data1** through which I could then find the dictionary keys of the file in order to make a succinct dataframe using the pandas packet. The first key I used was **likes_media_likes** in order to create a workable dataframe, **df_likes**. I then found the keys within **likes_media_likes** by using the Python **keys()** method and used the key inside that list called **string_list_data** in order to gain the values that I wanted, the **timestamp** and **href**(link to each Instagram post I've liked) values. I then used list comprehension to create a variable called **ts** through which I could then call the **timestamp** and **href** lists as new dataframes and then added the new dataframes as columns into my original dataframe **df_likes**. After I had the output of the final dataframe with the **href** and **timestamp** columns, I used the **groupby()** and **count()** methods in pandas. I used the methods in order to create a new dataframe that constricted my **timestamp** and **href** columns in order to show my likes per account. I did this by showing the number of times the **timestamp** and **href** values were counted in my original dataframe of **df_likes** with the **sort_values** method in pandas. My final analysis of the **sorted_likes_per_acc[0:30]** dataframe is that it's an accurate representation of the top 30 accounts that I've liked posts from over the 7 years that I've been an Instagram user."
   ]
  },
  {
   "cell_type": "markdown",
   "id": "60f9bfbd",
   "metadata": {},
   "source": [
    "#### 9) Include a clear and appropriate visualization."
   ]
  },
  {
   "cell_type": "code",
   "execution_count": 36,
   "id": "32300b33",
   "metadata": {},
   "outputs": [
    {
     "data": {
      "text/html": [
       "<div>\n",
       "<style scoped>\n",
       "    .dataframe tbody tr th:only-of-type {\n",
       "        vertical-align: middle;\n",
       "    }\n",
       "\n",
       "    .dataframe tbody tr th {\n",
       "        vertical-align: top;\n",
       "    }\n",
       "\n",
       "    .dataframe thead th {\n",
       "        text-align: right;\n",
       "    }\n",
       "</style>\n",
       "<table border=\"1\" class=\"dataframe\">\n",
       "  <thead>\n",
       "    <tr style=\"text-align: right;\">\n",
       "      <th></th>\n",
       "      <th>timestamp</th>\n",
       "      <th>href</th>\n",
       "    </tr>\n",
       "    <tr>\n",
       "      <th>title</th>\n",
       "      <th></th>\n",
       "      <th></th>\n",
       "    </tr>\n",
       "  </thead>\n",
       "  <tbody>\n",
       "    <tr>\n",
       "      <th>nickydiamonds</th>\n",
       "      <td>173</td>\n",
       "      <td>173</td>\n",
       "    </tr>\n",
       "    <tr>\n",
       "      <th>badboywiwi_</th>\n",
       "      <td>125</td>\n",
       "      <td>125</td>\n",
       "    </tr>\n",
       "    <tr>\n",
       "      <th>spitta_andretti</th>\n",
       "      <td>116</td>\n",
       "      <td>116</td>\n",
       "    </tr>\n",
       "    <tr>\n",
       "      <th>ourlonelyplanet</th>\n",
       "      <td>115</td>\n",
       "      <td>115</td>\n",
       "    </tr>\n",
       "    <tr>\n",
       "      <th>shanvazquez</th>\n",
       "      <td>111</td>\n",
       "      <td>111</td>\n",
       "    </tr>\n",
       "    <tr>\n",
       "      <th>8rookie</th>\n",
       "      <td>97</td>\n",
       "      <td>97</td>\n",
       "    </tr>\n",
       "    <tr>\n",
       "      <th>regeliza</th>\n",
       "      <td>83</td>\n",
       "      <td>83</td>\n",
       "    </tr>\n",
       "    <tr>\n",
       "      <th>brookie__babie</th>\n",
       "      <td>76</td>\n",
       "      <td>76</td>\n",
       "    </tr>\n",
       "    <tr>\n",
       "      <th>stussy</th>\n",
       "      <td>72</td>\n",
       "      <td>72</td>\n",
       "    </tr>\n",
       "    <tr>\n",
       "      <th>morganmosss</th>\n",
       "      <td>69</td>\n",
       "      <td>69</td>\n",
       "    </tr>\n",
       "    <tr>\n",
       "      <th>jasperr</th>\n",
       "      <td>65</td>\n",
       "      <td>65</td>\n",
       "    </tr>\n",
       "    <tr>\n",
       "      <th>newschoolers</th>\n",
       "      <td>62</td>\n",
       "      <td>62</td>\n",
       "    </tr>\n",
       "    <tr>\n",
       "      <th>forgiato</th>\n",
       "      <td>61</td>\n",
       "      <td>61</td>\n",
       "    </tr>\n",
       "    <tr>\n",
       "      <th>emilysonjaa</th>\n",
       "      <td>56</td>\n",
       "      <td>56</td>\n",
       "    </tr>\n",
       "    <tr>\n",
       "      <th>bambambaklava</th>\n",
       "      <td>55</td>\n",
       "      <td>55</td>\n",
       "    </tr>\n",
       "    <tr>\n",
       "      <th>thrashermag</th>\n",
       "      <td>47</td>\n",
       "      <td>47</td>\n",
       "    </tr>\n",
       "    <tr>\n",
       "      <th>nathanielthomasgill</th>\n",
       "      <td>45</td>\n",
       "      <td>45</td>\n",
       "    </tr>\n",
       "    <tr>\n",
       "      <th>blakeanderson</th>\n",
       "      <td>41</td>\n",
       "      <td>41</td>\n",
       "    </tr>\n",
       "    <tr>\n",
       "      <th>shynabritelikeadiamond</th>\n",
       "      <td>41</td>\n",
       "      <td>41</td>\n",
       "    </tr>\n",
       "    <tr>\n",
       "      <th>tylerbasso</th>\n",
       "      <td>38</td>\n",
       "      <td>38</td>\n",
       "    </tr>\n",
       "    <tr>\n",
       "      <th>branbycz</th>\n",
       "      <td>35</td>\n",
       "      <td>35</td>\n",
       "    </tr>\n",
       "    <tr>\n",
       "      <th>mirandalgordon</th>\n",
       "      <td>34</td>\n",
       "      <td>34</td>\n",
       "    </tr>\n",
       "    <tr>\n",
       "      <th>olivia_goskowsky</th>\n",
       "      <td>33</td>\n",
       "      <td>33</td>\n",
       "    </tr>\n",
       "    <tr>\n",
       "      <th>philipm814</th>\n",
       "      <td>32</td>\n",
       "      <td>32</td>\n",
       "    </tr>\n",
       "    <tr>\n",
       "      <th>soapmanwun</th>\n",
       "      <td>30</td>\n",
       "      <td>30</td>\n",
       "    </tr>\n",
       "    <tr>\n",
       "      <th>feliciathegoat</th>\n",
       "      <td>27</td>\n",
       "      <td>27</td>\n",
       "    </tr>\n",
       "    <tr>\n",
       "      <th>ijamcrazy</th>\n",
       "      <td>24</td>\n",
       "      <td>24</td>\n",
       "    </tr>\n",
       "    <tr>\n",
       "      <th>tameimpala</th>\n",
       "      <td>24</td>\n",
       "      <td>24</td>\n",
       "    </tr>\n",
       "    <tr>\n",
       "      <th>yowhoseberg</th>\n",
       "      <td>24</td>\n",
       "      <td>24</td>\n",
       "    </tr>\n",
       "    <tr>\n",
       "      <th>domogenesis</th>\n",
       "      <td>23</td>\n",
       "      <td>23</td>\n",
       "    </tr>\n",
       "  </tbody>\n",
       "</table>\n",
       "</div>"
      ],
      "text/plain": [
       "                        timestamp  href\n",
       "title                                  \n",
       "nickydiamonds                 173   173\n",
       "badboywiwi_                   125   125\n",
       "spitta_andretti               116   116\n",
       "ourlonelyplanet               115   115\n",
       "shanvazquez                   111   111\n",
       "8rookie                        97    97\n",
       "regeliza                       83    83\n",
       "brookie__babie                 76    76\n",
       "stussy                         72    72\n",
       "morganmosss                    69    69\n",
       "jasperr                        65    65\n",
       "newschoolers                   62    62\n",
       "forgiato                       61    61\n",
       "emilysonjaa                    56    56\n",
       "bambambaklava                  55    55\n",
       "thrashermag                    47    47\n",
       "nathanielthomasgill            45    45\n",
       "blakeanderson                  41    41\n",
       "shynabritelikeadiamond         41    41\n",
       "tylerbasso                     38    38\n",
       "branbycz                       35    35\n",
       "mirandalgordon                 34    34\n",
       "olivia_goskowsky               33    33\n",
       "philipm814                     32    32\n",
       "soapmanwun                     30    30\n",
       "feliciathegoat                 27    27\n",
       "ijamcrazy                      24    24\n",
       "tameimpala                     24    24\n",
       "yowhoseberg                    24    24\n",
       "domogenesis                    23    23"
      ]
     },
     "execution_count": 36,
     "metadata": {},
     "output_type": "execute_result"
    }
   ],
   "source": [
    "sorted_likes_per_acc[0:30]"
   ]
  },
  {
   "cell_type": "code",
   "execution_count": 37,
   "id": "7154f56f",
   "metadata": {},
   "outputs": [],
   "source": [
    "import matplotlib as plt"
   ]
  },
  {
   "cell_type": "markdown",
   "id": "3f884507",
   "metadata": {},
   "source": [
    "#### Here's a bar chart showing the top 10 likes and the amount of likes for each account."
   ]
  },
  {
   "cell_type": "code",
   "execution_count": 42,
   "id": "d753e56f",
   "metadata": {},
   "outputs": [
    {
     "data": {
      "text/plain": [
       "<AxesSubplot:title={'center':\"What are Liam's top 10 most-liked Instagram accounts by likes per account?\"}, xlabel='Account Names', ylabel='Likes Per Account'>"
      ]
     },
     "execution_count": 42,
     "metadata": {},
     "output_type": "execute_result"
    },
    {
     "data": {
      "image/png": "[encoded data removed]",
      "text/plain": [
       "<Figure size 720x288 with 1 Axes>"
      ]
     },
     "metadata": {
      "needs_background": "light"
     },
     "output_type": "display_data"
    }
   ],
   "source": [
    "sorted_likes_per_acc[0:10].plot.bar(y='timestamp', ylabel = 'Likes Per Account', figsize = (10,4), xlabel = \n",
    "    'Account Names', title=\"What are Liam's top 10 most-liked Instagram accounts by likes per account?\")"
   ]
  },
  {
   "cell_type": "markdown",
   "id": "9213fe13",
   "metadata": {},
   "source": [
    "#### 10) Draw a data driven conclusion that addresses the assigned topics.\n",
    "The amount of likes per account can be arrived at by counting how many times the timestamp value appears in the data. The above table exemplifies how many likes were made from my Instagram data for each account that I interact with. It appears the account nickydiamonds is my most liked account with 173 likes. This is proven by both the dataframe and the bar chart seen above."
   ]
  },
  {
   "cell_type": "markdown",
   "id": "b463493a",
   "metadata": {},
   "source": [
    "#### 11) a) Limitations:\n",
    "One limitation of this data is possibly the accounts that have deactivated from Instagram or the posts that have been deleted. I'm not sure if the data is wholly representative of all the likes I've made on Instagram as I feel like I've made many more likes than 3122 over the 7 years I've spent on Instagram. My own analysis could be lacking as well so that could cause another limitation. Also, there's always the slim possibility that the algorithm which record my data on Instagram has a certain margin of error in which the timestamps could be incorrect or a copious amount of other technical failures could be possible. One final major limitation could be the scope of my analysis and the amount of data that I have to work with could be less than what Instagram uses when determining how to advertise to me.\n",
    "#### 11) b) Alternative Approaches:\n",
    "There are some alternative approaches possible, such as using a different type of graph like a pie chart or showing the accounts that I was least likely to interact with by showing the tail end of the counted dataframe. I believe the dataframe above could be analyzed in a countless amount of ways to come to many different conclusions, however, this dataframe and 10 most liked accounts could also be arrived at in numerous different ways using other Python and pandas methodology.\n",
    "#### 11) c) Possible next steps:\n",
    "My next steps could be to extrapolate the bar graph data by using a more succinct graph that shows the incremental amounts in order to get a better view of likes per account for the viewer of this report. I could also try to make theoretical and statistical hypotheses for my original data and try to either reject or accept a null hypothesis of my choosing for the **liked_posts.json** data. There are many possibilities with data and it seems almost endless. In conclusion, this report was my first attempt at data analysis and it will surely stoke the fires of my future endeavors at wrangling data, especially my own personal social media data."
   ]
  }
 ],
 "metadata": {
  "kernelspec": {
   "display_name": "Python 3 (ipykernel)",
   "language": "python",
   "name": "python3"
  },
  "language_info": {
   "codemirror_mode": {
    "name": "ipython",
    "version": 3
   },
   "file_extension": ".py",
   "mimetype": "text/x-python",
   "name": "python",
   "nbconvert_exporter": "python",
   "pygments_lexer": "ipython3",
   "version": "3.9.6"
  }
 },
 "nbformat": 4,
 "nbformat_minor": 5
}
